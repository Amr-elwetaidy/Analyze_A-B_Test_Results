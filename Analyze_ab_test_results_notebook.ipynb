{
 "cells": [
  {
   "cell_type": "markdown",
   "id": "4f7a938b",
   "metadata": {},
   "source": [
    "## Analyze A/B Test Results\n",
    "\n",
    "## Table of Contents\n",
    "- [Introduction](#intro)\n",
    "- [Part I - Probability](#probability)\n",
    "- [Part II - A/B Test](#ab_test)\n",
    "- [Part III - Regression](#regression)\n",
    "- [Conclusion](#conclusions)\n",
    "\n",
    "<a id='intro'></a>\n",
    "### Introduction\n",
    "\n",
    "A/B tests are very commonly performed by data analysts and data scientists.\n",
    "\n",
    "For this project, Our goal is to work through this notebook to help the company understand if they should implement the new page, keep the old page, or perhaps run the experiment longer to make their decision."
   ]
  },
  {
   "cell_type": "markdown",
   "id": "c9d8f093",
   "metadata": {},
   "source": [
    "### Importing needed libraries"
   ]
  },
  {
   "cell_type": "code",
   "execution_count": 1,
   "id": "8e412d62",
   "metadata": {},
   "outputs": [],
   "source": [
    "import pandas as pd\n",
    "import numpy as np\n",
    "import random\n",
    "import matplotlib.pyplot as plt\n",
    "import statsmodels.api as sm\n",
    "from datetime import timedelta\n",
    "\n",
    "%matplotlib inline\n",
    "\n",
    "random.seed(42)"
   ]
  },
  {
   "cell_type": "markdown",
   "id": "d4e51285",
   "metadata": {},
   "source": [
    "### Wrangling the data"
   ]
  },
  {
   "cell_type": "code",
   "execution_count": 2,
   "id": "63d37997",
   "metadata": {},
   "outputs": [
    {
     "data": {
      "text/html": [
       "<div>\n",
       "<style scoped>\n",
       "    .dataframe tbody tr th:only-of-type {\n",
       "        vertical-align: middle;\n",
       "    }\n",
       "\n",
       "    .dataframe tbody tr th {\n",
       "        vertical-align: top;\n",
       "    }\n",
       "\n",
       "    .dataframe thead th {\n",
       "        text-align: right;\n",
       "    }\n",
       "</style>\n",
       "<table border=\"1\" class=\"dataframe\">\n",
       "  <thead>\n",
       "    <tr style=\"text-align: right;\">\n",
       "      <th></th>\n",
       "      <th>user_id</th>\n",
       "      <th>timestamp</th>\n",
       "      <th>group</th>\n",
       "      <th>landing_page</th>\n",
       "      <th>converted</th>\n",
       "    </tr>\n",
       "  </thead>\n",
       "  <tbody>\n",
       "    <tr>\n",
       "      <th>0</th>\n",
       "      <td>851104</td>\n",
       "      <td>2017-01-21 22:11:48.556739</td>\n",
       "      <td>control</td>\n",
       "      <td>old_page</td>\n",
       "      <td>0</td>\n",
       "    </tr>\n",
       "    <tr>\n",
       "      <th>1</th>\n",
       "      <td>804228</td>\n",
       "      <td>2017-01-12 08:01:45.159739</td>\n",
       "      <td>control</td>\n",
       "      <td>old_page</td>\n",
       "      <td>0</td>\n",
       "    </tr>\n",
       "    <tr>\n",
       "      <th>2</th>\n",
       "      <td>661590</td>\n",
       "      <td>2017-01-11 16:55:06.154213</td>\n",
       "      <td>treatment</td>\n",
       "      <td>new_page</td>\n",
       "      <td>0</td>\n",
       "    </tr>\n",
       "    <tr>\n",
       "      <th>3</th>\n",
       "      <td>853541</td>\n",
       "      <td>2017-01-08 18:28:03.143765</td>\n",
       "      <td>treatment</td>\n",
       "      <td>new_page</td>\n",
       "      <td>0</td>\n",
       "    </tr>\n",
       "    <tr>\n",
       "      <th>4</th>\n",
       "      <td>864975</td>\n",
       "      <td>2017-01-21 01:52:26.210827</td>\n",
       "      <td>control</td>\n",
       "      <td>old_page</td>\n",
       "      <td>1</td>\n",
       "    </tr>\n",
       "  </tbody>\n",
       "</table>\n",
       "</div>"
      ],
      "text/plain": [
       "   user_id                  timestamp      group landing_page  converted\n",
       "0   851104 2017-01-21 22:11:48.556739    control     old_page          0\n",
       "1   804228 2017-01-12 08:01:45.159739    control     old_page          0\n",
       "2   661590 2017-01-11 16:55:06.154213  treatment     new_page          0\n",
       "3   853541 2017-01-08 18:28:03.143765  treatment     new_page          0\n",
       "4   864975 2017-01-21 01:52:26.210827    control     old_page          1"
      ]
     },
     "execution_count": 2,
     "metadata": {},
     "output_type": "execute_result"
    }
   ],
   "source": [
    "# reading the data and storing it in a dataframe\n",
    "df = pd.read_csv('Raw_Data/ab_data.csv')\n",
    "df['timestamp'] = pd.to_datetime(df['timestamp'])\n",
    "df.head()"
   ]
  },
  {
   "cell_type": "code",
   "execution_count": 3,
   "id": "a669d0af",
   "metadata": {},
   "outputs": [
    {
     "data": {
      "text/plain": [
       "294478"
      ]
     },
     "execution_count": 3,
     "metadata": {},
     "output_type": "execute_result"
    }
   ],
   "source": [
    "# number of rows in the dataset\n",
    "df.shape[0]"
   ]
  },
  {
   "cell_type": "code",
   "execution_count": 4,
   "id": "4d5ef79f",
   "metadata": {},
   "outputs": [
    {
     "data": {
      "text/plain": [
       "290584"
      ]
     },
     "execution_count": 4,
     "metadata": {},
     "output_type": "execute_result"
    }
   ],
   "source": [
    "# the number of unique users in the dataset\n",
    "len(df.user_id.unique())"
   ]
  },
  {
   "cell_type": "code",
   "execution_count": 5,
   "id": "6d7492f0",
   "metadata": {},
   "outputs": [
    {
     "data": {
      "text/plain": [
       "0.11965919355605512"
      ]
     },
     "execution_count": 5,
     "metadata": {},
     "output_type": "execute_result"
    }
   ],
   "source": [
    "# the proportion of total users that converted regardless of page = coverted / total\n",
    "df[df['converted'] == 1]['converted'].count() / df['converted'].count()"
   ]
  },
  {
   "cell_type": "code",
   "execution_count": 6,
   "id": "6bedac5a",
   "metadata": {},
   "outputs": [
    {
     "data": {
      "text/plain": [
       "3893"
      ]
     },
     "execution_count": 6,
     "metadata": {},
     "output_type": "execute_result"
    }
   ],
   "source": [
    "# the number of times a user from the experiment group landed in the old page\n",
    "df[((df['group'] == 'treatment') == (df['landing_page'] == 'new_page')) == False]['user_id'].count()"
   ]
  },
  {
   "cell_type": "code",
   "execution_count": 7,
   "id": "e6410dc0",
   "metadata": {},
   "outputs": [
    {
     "data": {
      "text/plain": [
       "user_id         0\n",
       "timestamp       0\n",
       "group           0\n",
       "landing_page    0\n",
       "converted       0\n",
       "dtype: int64"
      ]
     },
     "execution_count": 7,
     "metadata": {},
     "output_type": "execute_result"
    }
   ],
   "source": [
    "# checking for missing values\n",
    "df.isnull().sum()"
   ]
  },
  {
   "cell_type": "markdown",
   "id": "6548529d",
   "metadata": {},
   "source": [
    "### note:\n",
    "For the rows where **treatment** is not aligned with **new_page** or **control** is not aligned with **old_page**, we cannot be sure if this row truly received the new or old page."
   ]
  },
  {
   "cell_type": "code",
   "execution_count": 8,
   "id": "b951a75d",
   "metadata": {},
   "outputs": [
    {
     "data": {
      "text/html": [
       "<div>\n",
       "<style scoped>\n",
       "    .dataframe tbody tr th:only-of-type {\n",
       "        vertical-align: middle;\n",
       "    }\n",
       "\n",
       "    .dataframe tbody tr th {\n",
       "        vertical-align: top;\n",
       "    }\n",
       "\n",
       "    .dataframe thead th {\n",
       "        text-align: right;\n",
       "    }\n",
       "</style>\n",
       "<table border=\"1\" class=\"dataframe\">\n",
       "  <thead>\n",
       "    <tr style=\"text-align: right;\">\n",
       "      <th></th>\n",
       "      <th>user_id</th>\n",
       "      <th>timestamp</th>\n",
       "      <th>group</th>\n",
       "      <th>landing_page</th>\n",
       "      <th>converted</th>\n",
       "    </tr>\n",
       "  </thead>\n",
       "  <tbody>\n",
       "    <tr>\n",
       "      <th>22</th>\n",
       "      <td>767017</td>\n",
       "      <td>2017-01-12 22:58:14.991443</td>\n",
       "      <td>control</td>\n",
       "      <td>new_page</td>\n",
       "      <td>0</td>\n",
       "    </tr>\n",
       "    <tr>\n",
       "      <th>240</th>\n",
       "      <td>733976</td>\n",
       "      <td>2017-01-11 15:11:16.407599</td>\n",
       "      <td>control</td>\n",
       "      <td>new_page</td>\n",
       "      <td>0</td>\n",
       "    </tr>\n",
       "    <tr>\n",
       "      <th>308</th>\n",
       "      <td>857184</td>\n",
       "      <td>2017-01-20 07:34:59.832626</td>\n",
       "      <td>treatment</td>\n",
       "      <td>old_page</td>\n",
       "      <td>0</td>\n",
       "    </tr>\n",
       "    <tr>\n",
       "      <th>327</th>\n",
       "      <td>686623</td>\n",
       "      <td>2017-01-09 14:26:40.734775</td>\n",
       "      <td>treatment</td>\n",
       "      <td>old_page</td>\n",
       "      <td>0</td>\n",
       "    </tr>\n",
       "    <tr>\n",
       "      <th>357</th>\n",
       "      <td>856078</td>\n",
       "      <td>2017-01-12 12:29:30.354835</td>\n",
       "      <td>treatment</td>\n",
       "      <td>old_page</td>\n",
       "      <td>0</td>\n",
       "    </tr>\n",
       "  </tbody>\n",
       "</table>\n",
       "</div>"
      ],
      "text/plain": [
       "     user_id                  timestamp      group landing_page  converted\n",
       "22    767017 2017-01-12 22:58:14.991443    control     new_page          0\n",
       "240   733976 2017-01-11 15:11:16.407599    control     new_page          0\n",
       "308   857184 2017-01-20 07:34:59.832626  treatment     old_page          0\n",
       "327   686623 2017-01-09 14:26:40.734775  treatment     old_page          0\n",
       "357   856078 2017-01-12 12:29:30.354835  treatment     old_page          0"
      ]
     },
     "execution_count": 8,
     "metadata": {},
     "output_type": "execute_result"
    }
   ],
   "source": [
    "# extracing the rows where each group dont't line up with their landing page\n",
    "df1 = df[((df['group'] == 'treatment') == (df['landing_page'] == 'new_page')) == False]\n",
    "df1.head()"
   ]
  },
  {
   "cell_type": "code",
   "execution_count": 9,
   "id": "f648e7cd",
   "metadata": {},
   "outputs": [
    {
     "data": {
      "text/html": [
       "<div>\n",
       "<style scoped>\n",
       "    .dataframe tbody tr th:only-of-type {\n",
       "        vertical-align: middle;\n",
       "    }\n",
       "\n",
       "    .dataframe tbody tr th {\n",
       "        vertical-align: top;\n",
       "    }\n",
       "\n",
       "    .dataframe thead th {\n",
       "        text-align: right;\n",
       "    }\n",
       "</style>\n",
       "<table border=\"1\" class=\"dataframe\">\n",
       "  <thead>\n",
       "    <tr style=\"text-align: right;\">\n",
       "      <th></th>\n",
       "      <th>user_id</th>\n",
       "      <th>timestamp</th>\n",
       "      <th>group</th>\n",
       "      <th>landing_page</th>\n",
       "      <th>converted</th>\n",
       "    </tr>\n",
       "  </thead>\n",
       "  <tbody>\n",
       "    <tr>\n",
       "      <th>0</th>\n",
       "      <td>851104</td>\n",
       "      <td>2017-01-21 22:11:48.556739</td>\n",
       "      <td>control</td>\n",
       "      <td>old_page</td>\n",
       "      <td>0</td>\n",
       "    </tr>\n",
       "    <tr>\n",
       "      <th>1</th>\n",
       "      <td>804228</td>\n",
       "      <td>2017-01-12 08:01:45.159739</td>\n",
       "      <td>control</td>\n",
       "      <td>old_page</td>\n",
       "      <td>0</td>\n",
       "    </tr>\n",
       "    <tr>\n",
       "      <th>2</th>\n",
       "      <td>661590</td>\n",
       "      <td>2017-01-11 16:55:06.154213</td>\n",
       "      <td>treatment</td>\n",
       "      <td>new_page</td>\n",
       "      <td>0</td>\n",
       "    </tr>\n",
       "    <tr>\n",
       "      <th>3</th>\n",
       "      <td>853541</td>\n",
       "      <td>2017-01-08 18:28:03.143765</td>\n",
       "      <td>treatment</td>\n",
       "      <td>new_page</td>\n",
       "      <td>0</td>\n",
       "    </tr>\n",
       "    <tr>\n",
       "      <th>4</th>\n",
       "      <td>864975</td>\n",
       "      <td>2017-01-21 01:52:26.210827</td>\n",
       "      <td>control</td>\n",
       "      <td>old_page</td>\n",
       "      <td>1</td>\n",
       "    </tr>\n",
       "    <tr>\n",
       "      <th>...</th>\n",
       "      <td>...</td>\n",
       "      <td>...</td>\n",
       "      <td>...</td>\n",
       "      <td>...</td>\n",
       "      <td>...</td>\n",
       "    </tr>\n",
       "    <tr>\n",
       "      <th>294473</th>\n",
       "      <td>751197</td>\n",
       "      <td>2017-01-03 22:28:38.630509</td>\n",
       "      <td>control</td>\n",
       "      <td>old_page</td>\n",
       "      <td>0</td>\n",
       "    </tr>\n",
       "    <tr>\n",
       "      <th>294474</th>\n",
       "      <td>945152</td>\n",
       "      <td>2017-01-12 00:51:57.078372</td>\n",
       "      <td>control</td>\n",
       "      <td>old_page</td>\n",
       "      <td>0</td>\n",
       "    </tr>\n",
       "    <tr>\n",
       "      <th>294475</th>\n",
       "      <td>734608</td>\n",
       "      <td>2017-01-22 11:45:03.439544</td>\n",
       "      <td>control</td>\n",
       "      <td>old_page</td>\n",
       "      <td>0</td>\n",
       "    </tr>\n",
       "    <tr>\n",
       "      <th>294476</th>\n",
       "      <td>697314</td>\n",
       "      <td>2017-01-15 01:20:28.957438</td>\n",
       "      <td>control</td>\n",
       "      <td>old_page</td>\n",
       "      <td>0</td>\n",
       "    </tr>\n",
       "    <tr>\n",
       "      <th>294477</th>\n",
       "      <td>715931</td>\n",
       "      <td>2017-01-16 12:40:24.467417</td>\n",
       "      <td>treatment</td>\n",
       "      <td>new_page</td>\n",
       "      <td>0</td>\n",
       "    </tr>\n",
       "  </tbody>\n",
       "</table>\n",
       "<p>290585 rows × 5 columns</p>\n",
       "</div>"
      ],
      "text/plain": [
       "        user_id                  timestamp      group landing_page  converted\n",
       "0        851104 2017-01-21 22:11:48.556739    control     old_page          0\n",
       "1        804228 2017-01-12 08:01:45.159739    control     old_page          0\n",
       "2        661590 2017-01-11 16:55:06.154213  treatment     new_page          0\n",
       "3        853541 2017-01-08 18:28:03.143765  treatment     new_page          0\n",
       "4        864975 2017-01-21 01:52:26.210827    control     old_page          1\n",
       "...         ...                        ...        ...          ...        ...\n",
       "294473   751197 2017-01-03 22:28:38.630509    control     old_page          0\n",
       "294474   945152 2017-01-12 00:51:57.078372    control     old_page          0\n",
       "294475   734608 2017-01-22 11:45:03.439544    control     old_page          0\n",
       "294476   697314 2017-01-15 01:20:28.957438    control     old_page          0\n",
       "294477   715931 2017-01-16 12:40:24.467417  treatment     new_page          0\n",
       "\n",
       "[290585 rows x 5 columns]"
      ]
     },
     "execution_count": 9,
     "metadata": {},
     "output_type": "execute_result"
    }
   ],
   "source": [
    "# removing the rows where each group dont't align with their landing page\n",
    "df2 = df.drop(index=df1.index)\n",
    "df2"
   ]
  },
  {
   "cell_type": "code",
   "execution_count": 10,
   "id": "84aef335",
   "metadata": {},
   "outputs": [
    {
     "data": {
      "text/plain": [
       "0"
      ]
     },
     "execution_count": 10,
     "metadata": {},
     "output_type": "execute_result"
    }
   ],
   "source": [
    "# Double Check all of the correct rows were removed - this should be 0\n",
    "df2[((df2['group'] == 'treatment') == (df2['landing_page'] == 'new_page')) == False].shape[0]"
   ]
  },
  {
   "cell_type": "code",
   "execution_count": 11,
   "id": "55b18709",
   "metadata": {},
   "outputs": [
    {
     "data": {
      "text/plain": [
       "290584"
      ]
     },
     "execution_count": 11,
     "metadata": {},
     "output_type": "execute_result"
    }
   ],
   "source": [
    "# number of unique user_ids are in df2\n",
    "len(df2.user_id.unique())"
   ]
  },
  {
   "cell_type": "code",
   "execution_count": 12,
   "id": "cdd2e50f",
   "metadata": {},
   "outputs": [
    {
     "data": {
      "text/html": [
       "<div>\n",
       "<style scoped>\n",
       "    .dataframe tbody tr th:only-of-type {\n",
       "        vertical-align: middle;\n",
       "    }\n",
       "\n",
       "    .dataframe tbody tr th {\n",
       "        vertical-align: top;\n",
       "    }\n",
       "\n",
       "    .dataframe thead th {\n",
       "        text-align: right;\n",
       "    }\n",
       "</style>\n",
       "<table border=\"1\" class=\"dataframe\">\n",
       "  <thead>\n",
       "    <tr style=\"text-align: right;\">\n",
       "      <th></th>\n",
       "      <th>user_id</th>\n",
       "      <th>timestamp</th>\n",
       "      <th>group</th>\n",
       "      <th>landing_page</th>\n",
       "      <th>converted</th>\n",
       "    </tr>\n",
       "  </thead>\n",
       "  <tbody>\n",
       "    <tr>\n",
       "      <th>1899</th>\n",
       "      <td>773192</td>\n",
       "      <td>2017-01-09 05:37:58.781806</td>\n",
       "      <td>treatment</td>\n",
       "      <td>new_page</td>\n",
       "      <td>0</td>\n",
       "    </tr>\n",
       "    <tr>\n",
       "      <th>2893</th>\n",
       "      <td>773192</td>\n",
       "      <td>2017-01-14 02:55:59.590927</td>\n",
       "      <td>treatment</td>\n",
       "      <td>new_page</td>\n",
       "      <td>0</td>\n",
       "    </tr>\n",
       "  </tbody>\n",
       "</table>\n",
       "</div>"
      ],
      "text/plain": [
       "      user_id                  timestamp      group landing_page  converted\n",
       "1899   773192 2017-01-09 05:37:58.781806  treatment     new_page          0\n",
       "2893   773192 2017-01-14 02:55:59.590927  treatment     new_page          0"
      ]
     },
     "execution_count": 12,
     "metadata": {},
     "output_type": "execute_result"
    }
   ],
   "source": [
    "# checking for duplicates\n",
    "df2[df2['user_id'].duplicated(keep=False)]"
   ]
  },
  {
   "cell_type": "code",
   "execution_count": 13,
   "id": "01016b22",
   "metadata": {},
   "outputs": [],
   "source": [
    "# removing one of the dulicates\n",
    "df2.drop_duplicates('user_id', inplace=True)"
   ]
  },
  {
   "cell_type": "markdown",
   "id": "d6875292",
   "metadata": {},
   "source": [
    "<a id='probability'></a>\n",
    "### Part I - Probability"
   ]
  },
  {
   "cell_type": "code",
   "execution_count": 14,
   "id": "c6f91016",
   "metadata": {},
   "outputs": [
    {
     "data": {
      "text/plain": [
       "0.11959708724499628"
      ]
     },
     "execution_count": 14,
     "metadata": {},
     "output_type": "execute_result"
    }
   ],
   "source": [
    "# the probability of an individual converting regardless of the page they receive after cleaning the dataset\n",
    "p_converted = df2[df2['converted'] == 1]['converted'].count() / df2['converted'].count()\n",
    "p_converted"
   ]
  },
  {
   "cell_type": "code",
   "execution_count": 15,
   "id": "2665722c",
   "metadata": {},
   "outputs": [
    {
     "data": {
      "text/plain": [
       "0.1203863045004612"
      ]
     },
     "execution_count": 15,
     "metadata": {},
     "output_type": "execute_result"
    }
   ],
   "source": [
    "# the probability of an individual converting given he landed in the control group\n",
    "p_control_converted = df2[(df2['converted'] == 1) & (df2['group'] == 'control')]['converted'].count() / df2[df2['group'] == 'control']['group'].count()\n",
    "p_control_converted"
   ]
  },
  {
   "cell_type": "code",
   "execution_count": 16,
   "id": "72f9f462",
   "metadata": {},
   "outputs": [
    {
     "data": {
      "text/plain": [
       "0.11880806551510564"
      ]
     },
     "execution_count": 16,
     "metadata": {},
     "output_type": "execute_result"
    }
   ],
   "source": [
    "# the probability of an individual converting given he landed in the experiment group\n",
    "p_treat_converted = df2[(df2['converted'] == 1) & (df2['group'] == 'treatment')]['converted'].count() / df2[df2['group'] == 'treatment']['group'].count()\n",
    "p_treat_converted"
   ]
  },
  {
   "cell_type": "code",
   "execution_count": 17,
   "id": "7a54abfd",
   "metadata": {},
   "outputs": [
    {
     "data": {
      "text/plain": [
       "0.5000619442226688"
      ]
     },
     "execution_count": 17,
     "metadata": {},
     "output_type": "execute_result"
    }
   ],
   "source": [
    "#  the probability that an individual received the new page\n",
    "p_newpage = df2[df2['landing_page'] == 'new_page']['landing_page'].count() / df2['landing_page'].count()\n",
    "p_newpage"
   ]
  },
  {
   "cell_type": "code",
   "execution_count": 18,
   "id": "5f9d8029",
   "metadata": {},
   "outputs": [],
   "source": [
    "# calculating the actual difference observed in the dataset\n",
    "obs_diff = p_treat_converted - p_control_converted"
   ]
  },
  {
   "cell_type": "markdown",
   "id": "9e67afa6",
   "metadata": {},
   "source": [
    "**Probability Conclusion**\n",
    "\n",
    "- from the probability that an individual received the new page =0.5 we see that both groups had the same sample size.\n",
    "- \"p_control_converted\" = 0.1204 -- and -- \"p_treatment_converted\" = 0.1188\n",
    "- The propapility that an individual from the control group converted is almost equal to the propapility that an individual from the treatment group converted.\n",
    "- thats is not a sufficient evidence to say that the new treatment page leads to more conversions\n",
    "- rather it even did less conversions."
   ]
  },
  {
   "cell_type": "markdown",
   "id": "46a04e02",
   "metadata": {},
   "source": [
    "<a id='ab_test'></a>\n",
    "### Part II - A/B Test"
   ]
  },
  {
   "cell_type": "markdown",
   "id": "42820dcb",
   "metadata": {},
   "source": [
    "we assume that the old page is better unless the new page proves to be definitely better at a Type I error rate of 5%.\n",
    "\n",
    "$$H_0: p_{new} - p_{old} <= 0$$\n",
    "\n",
    "\n",
    "$$H_1: p_{new} - p_{old} > 0$$\n",
    "\n",
    "where **$p_{old}$** and **$p_{new}$** are the converted rates for the old and new pages."
   ]
  },
  {
   "cell_type": "markdown",
   "id": "a51b50ec",
   "metadata": {},
   "source": [
    "### note:\n",
    "Assuming under the null hypothesis, $p_{new}$ and $p_{old}$ both have \"true\" success rates equal to the **converted** success rate regardless of page - that is $p_{new}$ and $p_{old}$ are equal. Furthermore, assuming they are equal to the **converted** rate in **ab_data.csv** regardless of the page. <br><br>"
   ]
  },
  {
   "cell_type": "markdown",
   "id": "8520eb7e",
   "metadata": {},
   "source": [
    "### calcualting how long has the experiment been running for"
   ]
  },
  {
   "cell_type": "code",
   "execution_count": 19,
   "id": "13c20bff",
   "metadata": {},
   "outputs": [],
   "source": [
    "# sorting the data by timestamp so we can track the experiment progress\n",
    "df2.sort_values(by='timestamp', ascending=True, inplace=True)"
   ]
  },
  {
   "cell_type": "code",
   "execution_count": 20,
   "id": "e69caab7",
   "metadata": {},
   "outputs": [
    {
     "data": {
      "text/plain": [
       "Timedelta('21 days 23:59:49.081927')"
      ]
     },
     "execution_count": 20,
     "metadata": {},
     "output_type": "execute_result"
    }
   ],
   "source": [
    "df2['timestamp'].max() - df2['timestamp'].min()"
   ]
  },
  {
   "cell_type": "markdown",
   "id": "2bf6e607",
   "metadata": {},
   "source": [
    "### the experiment has been running for 3 weeks\n",
    "as we don't know for how long we should run the experiment to get the results we need, we can avoid that by running the test multiple times on different time intervals, tracking results progress and making an assumption out of it."
   ]
  },
  {
   "cell_type": "markdown",
   "id": "745c9ba0",
   "metadata": {},
   "source": [
    "### calculating the results after one week"
   ]
  },
  {
   "cell_type": "code",
   "execution_count": 21,
   "id": "8f20c3c5",
   "metadata": {},
   "outputs": [],
   "source": [
    "week1_prior =  df2['timestamp'].min() + timedelta(weeks=1)"
   ]
  },
  {
   "cell_type": "code",
   "execution_count": 22,
   "id": "dc81e5e8",
   "metadata": {},
   "outputs": [],
   "source": [
    "# extracting the data of the first week\n",
    "week1_df = df2[df2['timestamp'] <= week1_prior]"
   ]
  },
  {
   "cell_type": "code",
   "execution_count": 23,
   "id": "6d880844",
   "metadata": {},
   "outputs": [
    {
     "data": {
      "text/html": [
       "<div>\n",
       "<style scoped>\n",
       "    .dataframe tbody tr th:only-of-type {\n",
       "        vertical-align: middle;\n",
       "    }\n",
       "\n",
       "    .dataframe tbody tr th {\n",
       "        vertical-align: top;\n",
       "    }\n",
       "\n",
       "    .dataframe thead th {\n",
       "        text-align: right;\n",
       "    }\n",
       "</style>\n",
       "<table border=\"1\" class=\"dataframe\">\n",
       "  <thead>\n",
       "    <tr style=\"text-align: right;\">\n",
       "      <th></th>\n",
       "      <th>user_id</th>\n",
       "      <th>timestamp</th>\n",
       "      <th>group</th>\n",
       "      <th>landing_page</th>\n",
       "      <th>converted</th>\n",
       "    </tr>\n",
       "  </thead>\n",
       "  <tbody>\n",
       "    <tr>\n",
       "      <th>131228</th>\n",
       "      <td>922696</td>\n",
       "      <td>2017-01-02 13:42:05.378582</td>\n",
       "      <td>treatment</td>\n",
       "      <td>new_page</td>\n",
       "      <td>0</td>\n",
       "    </tr>\n",
       "    <tr>\n",
       "      <th>184884</th>\n",
       "      <td>781507</td>\n",
       "      <td>2017-01-02 13:42:15.234051</td>\n",
       "      <td>control</td>\n",
       "      <td>old_page</td>\n",
       "      <td>0</td>\n",
       "    </tr>\n",
       "    <tr>\n",
       "      <th>83878</th>\n",
       "      <td>737319</td>\n",
       "      <td>2017-01-02 13:42:21.786186</td>\n",
       "      <td>control</td>\n",
       "      <td>old_page</td>\n",
       "      <td>0</td>\n",
       "    </tr>\n",
       "    <tr>\n",
       "      <th>102717</th>\n",
       "      <td>818377</td>\n",
       "      <td>2017-01-02 13:42:26.640581</td>\n",
       "      <td>treatment</td>\n",
       "      <td>new_page</td>\n",
       "      <td>0</td>\n",
       "    </tr>\n",
       "    <tr>\n",
       "      <th>158789</th>\n",
       "      <td>725857</td>\n",
       "      <td>2017-01-02 13:42:27.851110</td>\n",
       "      <td>treatment</td>\n",
       "      <td>new_page</td>\n",
       "      <td>0</td>\n",
       "    </tr>\n",
       "    <tr>\n",
       "      <th>...</th>\n",
       "      <td>...</td>\n",
       "      <td>...</td>\n",
       "      <td>...</td>\n",
       "      <td>...</td>\n",
       "      <td>...</td>\n",
       "    </tr>\n",
       "    <tr>\n",
       "      <th>171876</th>\n",
       "      <td>933416</td>\n",
       "      <td>2017-01-09 13:41:16.908743</td>\n",
       "      <td>treatment</td>\n",
       "      <td>new_page</td>\n",
       "      <td>0</td>\n",
       "    </tr>\n",
       "    <tr>\n",
       "      <th>171200</th>\n",
       "      <td>701777</td>\n",
       "      <td>2017-01-09 13:41:31.452585</td>\n",
       "      <td>treatment</td>\n",
       "      <td>new_page</td>\n",
       "      <td>0</td>\n",
       "    </tr>\n",
       "    <tr>\n",
       "      <th>80645</th>\n",
       "      <td>881251</td>\n",
       "      <td>2017-01-09 13:41:36.327582</td>\n",
       "      <td>control</td>\n",
       "      <td>old_page</td>\n",
       "      <td>0</td>\n",
       "    </tr>\n",
       "    <tr>\n",
       "      <th>236217</th>\n",
       "      <td>744985</td>\n",
       "      <td>2017-01-09 13:41:46.526450</td>\n",
       "      <td>treatment</td>\n",
       "      <td>new_page</td>\n",
       "      <td>0</td>\n",
       "    </tr>\n",
       "    <tr>\n",
       "      <th>129840</th>\n",
       "      <td>761092</td>\n",
       "      <td>2017-01-09 13:41:58.146468</td>\n",
       "      <td>treatment</td>\n",
       "      <td>new_page</td>\n",
       "      <td>0</td>\n",
       "    </tr>\n",
       "  </tbody>\n",
       "</table>\n",
       "<p>92446 rows × 5 columns</p>\n",
       "</div>"
      ],
      "text/plain": [
       "        user_id                  timestamp      group landing_page  converted\n",
       "131228   922696 2017-01-02 13:42:05.378582  treatment     new_page          0\n",
       "184884   781507 2017-01-02 13:42:15.234051    control     old_page          0\n",
       "83878    737319 2017-01-02 13:42:21.786186    control     old_page          0\n",
       "102717   818377 2017-01-02 13:42:26.640581  treatment     new_page          0\n",
       "158789   725857 2017-01-02 13:42:27.851110  treatment     new_page          0\n",
       "...         ...                        ...        ...          ...        ...\n",
       "171876   933416 2017-01-09 13:41:16.908743  treatment     new_page          0\n",
       "171200   701777 2017-01-09 13:41:31.452585  treatment     new_page          0\n",
       "80645    881251 2017-01-09 13:41:36.327582    control     old_page          0\n",
       "236217   744985 2017-01-09 13:41:46.526450  treatment     new_page          0\n",
       "129840   761092 2017-01-09 13:41:58.146468  treatment     new_page          0\n",
       "\n",
       "[92446 rows x 5 columns]"
      ]
     },
     "execution_count": 23,
     "metadata": {},
     "output_type": "execute_result"
    }
   ],
   "source": [
    "week1_df"
   ]
  },
  {
   "cell_type": "code",
   "execution_count": 24,
   "id": "bf586594",
   "metadata": {},
   "outputs": [
    {
     "data": {
      "text/plain": [
       "0.11850161175172533"
      ]
     },
     "execution_count": 24,
     "metadata": {},
     "output_type": "execute_result"
    }
   ],
   "source": [
    "# the convert rate for 𝑝_𝑛𝑒𝑤 page and 𝑝_old page under the null\n",
    "p_converted_week1 = week1_df[week1_df['converted'] == 1]['converted'].count() / week1_df['converted'].count()\n",
    "p_converted_week1"
   ]
  },
  {
   "cell_type": "code",
   "execution_count": 25,
   "id": "3f7dd72b",
   "metadata": {},
   "outputs": [
    {
     "data": {
      "text/plain": [
       "(0.1193644316134494, 0.11764452206912909)"
      ]
     },
     "execution_count": 25,
     "metadata": {},
     "output_type": "execute_result"
    }
   ],
   "source": [
    "# the convert rate for 𝑝_𝑛𝑒𝑤 page and 𝑝_old page\n",
    "p_control_w1 = week1_df[(week1_df['converted'] == 1) & (week1_df['group'] == 'control')]['converted'].count() / week1_df[week1_df['group'] == 'control']['group'].count()\n",
    "p_treatment_w1 = week1_df[(week1_df['converted'] == 1) & (week1_df['group'] == 'treatment')]['converted'].count() / week1_df[week1_df['group'] == 'treatment']['group'].count()\n",
    "p_control_w1, p_treatment_w1"
   ]
  },
  {
   "cell_type": "code",
   "execution_count": 26,
   "id": "512be897",
   "metadata": {},
   "outputs": [
    {
     "data": {
      "text/plain": [
       "-0.0017199095443203027"
      ]
     },
     "execution_count": 26,
     "metadata": {},
     "output_type": "execute_result"
    }
   ],
   "source": [
    "# calculating the actual difference observed in the one week dataset\n",
    "obs_diff_week1 = p_treatment_w1 - p_control_w1\n",
    "obs_diff_week1"
   ]
  },
  {
   "cell_type": "code",
   "execution_count": 27,
   "id": "288d3557",
   "metadata": {},
   "outputs": [
    {
     "data": {
      "text/plain": [
       "46377"
      ]
     },
     "execution_count": 27,
     "metadata": {},
     "output_type": "execute_result"
    }
   ],
   "source": [
    "# the number of individuals in the treatment group\n",
    "𝑛_𝑛𝑒𝑤_w1 = week1_df[week1_df['group'] == 'treatment'].shape[0]\n",
    "n_new_w1"
   ]
  },
  {
   "cell_type": "code",
   "execution_count": 28,
   "id": "66ff072e",
   "metadata": {},
   "outputs": [
    {
     "data": {
      "text/plain": [
       "46069"
      ]
     },
     "execution_count": 28,
     "metadata": {},
     "output_type": "execute_result"
    }
   ],
   "source": [
    "# the number of individuals in the control group\n",
    "n_old_w1 = week1_df[week1_df['group'] == 'control'].shape[0]\n",
    "n_old_w1"
   ]
  },
  {
   "cell_type": "code",
   "execution_count": 29,
   "id": "bfcf2002",
   "metadata": {},
   "outputs": [],
   "source": [
    "# Simulate 10,000 𝑛_𝑛𝑒𝑤 and 𝑛_old transactions with a convert rate of 𝑝_𝑛𝑒𝑤 and 𝑝_old under the null\n",
    "p_diffs_week1 = []\n",
    "for _ in range(10000):\n",
    "    new_page_converted_w1 = np.random.choice([1, 0], size=n_new_w1, p=[p_converted_week1, 1-p_converted_week1])\n",
    "    old_page_converted_w1 = np.random.choice([1, 0], size=n_old_w1, p=[p_converted_week1, 1-p_converted_week1])\n",
    "    p_new_w1 = new_page_converted_w1.mean()\n",
    "    p_old_w1 = old_page_converted_w1.mean()\n",
    "    p_diffs_week1.append(p_new_w1 - p_old_w1)\n",
    "    \n",
    "p_diffs_week1 = np.array(p_diffs_week1)"
   ]
  },
  {
   "cell_type": "code",
   "execution_count": 30,
   "id": "1384ac2d",
   "metadata": {},
   "outputs": [
    {
     "data": {
      "image/png": "[encoded data removed]",
      "text/plain": [
       "<Figure size 432x288 with 1 Axes>"
      ]
     },
     "metadata": {
      "needs_background": "light"
     },
     "output_type": "display_data"
    }
   ],
   "source": [
    "# Plotting a histogram of the p_diffs\n",
    "plt.hist(p_diffs_week1);\n",
    "plt.axvline(obs_diff_week1, c='red');"
   ]
  },
  {
   "cell_type": "code",
   "execution_count": 31,
   "id": "e1c4d2df",
   "metadata": {},
   "outputs": [
    {
     "data": {
      "text/plain": [
       "0.7877"
      ]
     },
     "execution_count": 31,
     "metadata": {},
     "output_type": "execute_result"
    }
   ],
   "source": [
    "# calculating the P_value\n",
    "# (the proportion of the p_diffs that are greater than the actual difference observed in the dateset)\n",
    "(p_diffs_week1 > obs_diff_week1).mean()"
   ]
  },
  {
   "cell_type": "markdown",
   "id": "6e407c52",
   "metadata": {},
   "source": [
    "### calculating the results after two weeks"
   ]
  },
  {
   "cell_type": "code",
   "execution_count": 32,
   "id": "e4934226",
   "metadata": {},
   "outputs": [],
   "source": [
    "week2_prior =  df2['timestamp'].min() + timedelta(weeks=2)"
   ]
  },
  {
   "cell_type": "code",
   "execution_count": 33,
   "id": "0c6f2515",
   "metadata": {},
   "outputs": [],
   "source": [
    "week2_df = df2[df2['timestamp'] <= week2_prior]"
   ]
  },
  {
   "cell_type": "code",
   "execution_count": 34,
   "id": "ec9f00e8",
   "metadata": {},
   "outputs": [
    {
     "data": {
      "text/html": [
       "<div>\n",
       "<style scoped>\n",
       "    .dataframe tbody tr th:only-of-type {\n",
       "        vertical-align: middle;\n",
       "    }\n",
       "\n",
       "    .dataframe tbody tr th {\n",
       "        vertical-align: top;\n",
       "    }\n",
       "\n",
       "    .dataframe thead th {\n",
       "        text-align: right;\n",
       "    }\n",
       "</style>\n",
       "<table border=\"1\" class=\"dataframe\">\n",
       "  <thead>\n",
       "    <tr style=\"text-align: right;\">\n",
       "      <th></th>\n",
       "      <th>user_id</th>\n",
       "      <th>timestamp</th>\n",
       "      <th>group</th>\n",
       "      <th>landing_page</th>\n",
       "      <th>converted</th>\n",
       "    </tr>\n",
       "  </thead>\n",
       "  <tbody>\n",
       "    <tr>\n",
       "      <th>131228</th>\n",
       "      <td>922696</td>\n",
       "      <td>2017-01-02 13:42:05.378582</td>\n",
       "      <td>treatment</td>\n",
       "      <td>new_page</td>\n",
       "      <td>0</td>\n",
       "    </tr>\n",
       "    <tr>\n",
       "      <th>184884</th>\n",
       "      <td>781507</td>\n",
       "      <td>2017-01-02 13:42:15.234051</td>\n",
       "      <td>control</td>\n",
       "      <td>old_page</td>\n",
       "      <td>0</td>\n",
       "    </tr>\n",
       "    <tr>\n",
       "      <th>83878</th>\n",
       "      <td>737319</td>\n",
       "      <td>2017-01-02 13:42:21.786186</td>\n",
       "      <td>control</td>\n",
       "      <td>old_page</td>\n",
       "      <td>0</td>\n",
       "    </tr>\n",
       "    <tr>\n",
       "      <th>102717</th>\n",
       "      <td>818377</td>\n",
       "      <td>2017-01-02 13:42:26.640581</td>\n",
       "      <td>treatment</td>\n",
       "      <td>new_page</td>\n",
       "      <td>0</td>\n",
       "    </tr>\n",
       "    <tr>\n",
       "      <th>158789</th>\n",
       "      <td>725857</td>\n",
       "      <td>2017-01-02 13:42:27.851110</td>\n",
       "      <td>treatment</td>\n",
       "      <td>new_page</td>\n",
       "      <td>0</td>\n",
       "    </tr>\n",
       "    <tr>\n",
       "      <th>...</th>\n",
       "      <td>...</td>\n",
       "      <td>...</td>\n",
       "      <td>...</td>\n",
       "      <td>...</td>\n",
       "      <td>...</td>\n",
       "    </tr>\n",
       "    <tr>\n",
       "      <th>287237</th>\n",
       "      <td>643009</td>\n",
       "      <td>2017-01-16 13:41:48.089358</td>\n",
       "      <td>treatment</td>\n",
       "      <td>new_page</td>\n",
       "      <td>0</td>\n",
       "    </tr>\n",
       "    <tr>\n",
       "      <th>277357</th>\n",
       "      <td>711687</td>\n",
       "      <td>2017-01-16 13:41:57.235549</td>\n",
       "      <td>treatment</td>\n",
       "      <td>new_page</td>\n",
       "      <td>0</td>\n",
       "    </tr>\n",
       "    <tr>\n",
       "      <th>75739</th>\n",
       "      <td>925779</td>\n",
       "      <td>2017-01-16 13:41:58.527776</td>\n",
       "      <td>control</td>\n",
       "      <td>old_page</td>\n",
       "      <td>0</td>\n",
       "    </tr>\n",
       "    <tr>\n",
       "      <th>145943</th>\n",
       "      <td>906797</td>\n",
       "      <td>2017-01-16 13:42:02.541521</td>\n",
       "      <td>treatment</td>\n",
       "      <td>new_page</td>\n",
       "      <td>0</td>\n",
       "    </tr>\n",
       "    <tr>\n",
       "      <th>64249</th>\n",
       "      <td>919403</td>\n",
       "      <td>2017-01-16 13:42:04.582962</td>\n",
       "      <td>treatment</td>\n",
       "      <td>new_page</td>\n",
       "      <td>0</td>\n",
       "    </tr>\n",
       "  </tbody>\n",
       "</table>\n",
       "<p>185001 rows × 5 columns</p>\n",
       "</div>"
      ],
      "text/plain": [
       "        user_id                  timestamp      group landing_page  converted\n",
       "131228   922696 2017-01-02 13:42:05.378582  treatment     new_page          0\n",
       "184884   781507 2017-01-02 13:42:15.234051    control     old_page          0\n",
       "83878    737319 2017-01-02 13:42:21.786186    control     old_page          0\n",
       "102717   818377 2017-01-02 13:42:26.640581  treatment     new_page          0\n",
       "158789   725857 2017-01-02 13:42:27.851110  treatment     new_page          0\n",
       "...         ...                        ...        ...          ...        ...\n",
       "287237   643009 2017-01-16 13:41:48.089358  treatment     new_page          0\n",
       "277357   711687 2017-01-16 13:41:57.235549  treatment     new_page          0\n",
       "75739    925779 2017-01-16 13:41:58.527776    control     old_page          0\n",
       "145943   906797 2017-01-16 13:42:02.541521  treatment     new_page          0\n",
       "64249    919403 2017-01-16 13:42:04.582962  treatment     new_page          0\n",
       "\n",
       "[185001 rows x 5 columns]"
      ]
     },
     "execution_count": 34,
     "metadata": {},
     "output_type": "execute_result"
    }
   ],
   "source": [
    "week2_df"
   ]
  },
  {
   "cell_type": "code",
   "execution_count": 35,
   "id": "af15ad4c",
   "metadata": {},
   "outputs": [
    {
     "data": {
      "text/plain": [
       "0.1185993589223842"
      ]
     },
     "execution_count": 35,
     "metadata": {},
     "output_type": "execute_result"
    }
   ],
   "source": [
    "# the convert rate for 𝑝_𝑛𝑒𝑤 page and 𝑝_old page under the null\n",
    "p_converted_week2 = week2_df[week2_df['converted'] == 1]['converted'].count() / week2_df['converted'].count()\n",
    "p_converted_week2"
   ]
  },
  {
   "cell_type": "code",
   "execution_count": 36,
   "id": "f74cfe45",
   "metadata": {},
   "outputs": [
    {
     "data": {
      "text/plain": [
       "(0.1194472399874471, 0.11775315362018317)"
      ]
     },
     "execution_count": 36,
     "metadata": {},
     "output_type": "execute_result"
    }
   ],
   "source": [
    "# the convert rate for 𝑝_𝑛𝑒𝑤 page and 𝑝_old page\n",
    "p_control_w2 = week2_df[(week2_df['converted'] == 1) & (week2_df['group'] == 'control')]['converted'].count() / week2_df[week2_df['group'] == 'control']['group'].count()\n",
    "p_treatment_w2 = week2_df[(week2_df['converted'] == 1) & (week2_df['group'] == 'treatment')]['converted'].count() / week2_df[week2_df['group'] == 'treatment']['group'].count()\n",
    "p_control_w2, p_treatment_w2"
   ]
  },
  {
   "cell_type": "code",
   "execution_count": 37,
   "id": "3ae0cdf3",
   "metadata": {},
   "outputs": [
    {
     "data": {
      "text/plain": [
       "-0.001694086367263939"
      ]
     },
     "execution_count": 37,
     "metadata": {},
     "output_type": "execute_result"
    }
   ],
   "source": [
    "# calculating the actual difference observed in the two week dataset\n",
    "obs_diff_week2 = p_treatment_w2 - p_control_w2\n",
    "obs_diff_week2"
   ]
  },
  {
   "cell_type": "code",
   "execution_count": 38,
   "id": "6699e97a",
   "metadata": {},
   "outputs": [
    {
     "data": {
      "text/plain": [
       "92592"
      ]
     },
     "execution_count": 38,
     "metadata": {},
     "output_type": "execute_result"
    }
   ],
   "source": [
    "# the number of individuals in the treatment group\n",
    "𝑛_𝑛𝑒𝑤_w2 = week2_df[week2_df['group'] == 'treatment'].shape[0]\n",
    "n_new_w2"
   ]
  },
  {
   "cell_type": "code",
   "execution_count": 39,
   "id": "33e83fca",
   "metadata": {},
   "outputs": [
    {
     "data": {
      "text/plain": [
       "92409"
      ]
     },
     "execution_count": 39,
     "metadata": {},
     "output_type": "execute_result"
    }
   ],
   "source": [
    "# the number of individuals in the control group\n",
    "n_old_w2 = week2_df[week2_df['group'] == 'control'].shape[0]\n",
    "n_old_w2"
   ]
  },
  {
   "cell_type": "code",
   "execution_count": 40,
   "id": "067343c7",
   "metadata": {},
   "outputs": [],
   "source": [
    "# Simulate 10,000 𝑛_𝑛𝑒𝑤 and 𝑛_old transactions with a convert rate of 𝑝_𝑛𝑒𝑤 and 𝑝_old under the null\n",
    "p_diffs_week2 = []\n",
    "for _ in range(10000):\n",
    "    new_page_converted_w2 = np.random.choice([1, 0], size=n_new_w2, p=[p_converted_week2, 1-p_converted_week2])\n",
    "    old_page_converted_w2 = np.random.choice([1, 0], size=n_old_w2, p=[p_converted_week2, 1-p_converted_week2])\n",
    "    p_new_w2 = new_page_converted_w2.mean()\n",
    "    p_old_w2 = old_page_converted_w2.mean()\n",
    "    p_diffs_week2.append(p_new_w2 - p_old_w2)\n",
    "    \n",
    "p_diffs_week2 = np.array(p_diffs_week2)"
   ]
  },
  {
   "cell_type": "code",
   "execution_count": 41,
   "id": "891c1d39",
   "metadata": {},
   "outputs": [
    {
     "data": {
      "image/png": "[encoded data removed]",
      "text/plain": [
       "<Figure size 432x288 with 1 Axes>"
      ]
     },
     "metadata": {
      "needs_background": "light"
     },
     "output_type": "display_data"
    }
   ],
   "source": [
    "# Plotting a histogram of the p_diffs\n",
    "plt.hist(p_diffs_week2);\n",
    "plt.axvline(obs_diff_week2, c='red');"
   ]
  },
  {
   "cell_type": "code",
   "execution_count": 42,
   "id": "c1a01429",
   "metadata": {},
   "outputs": [
    {
     "data": {
      "text/plain": [
       "0.864"
      ]
     },
     "execution_count": 42,
     "metadata": {},
     "output_type": "execute_result"
    }
   ],
   "source": [
    "# calculating the P_value\n",
    "# (the proportion of the p_diffs that are greater than the actual difference observed in the dateset)\n",
    "(p_diffs_week2 > obs_diff_week2).mean()"
   ]
  },
  {
   "cell_type": "markdown",
   "id": "689d3264",
   "metadata": {},
   "source": [
    "### calculating the results after the experiment has ended"
   ]
  },
  {
   "cell_type": "code",
   "execution_count": 43,
   "id": "5e0a37fa",
   "metadata": {},
   "outputs": [
    {
     "data": {
      "text/plain": [
       "0.11959708724499628"
      ]
     },
     "execution_count": 43,
     "metadata": {},
     "output_type": "execute_result"
    }
   ],
   "source": [
    "# the convert rate for 𝑝_𝑛𝑒𝑤 page under the null\n",
    "p_new = df2[df2['converted'] == 1]['converted'].count() / df2['converted'].count()\n",
    "p_new"
   ]
  },
  {
   "cell_type": "code",
   "execution_count": 44,
   "id": "3d7f1442",
   "metadata": {},
   "outputs": [
    {
     "data": {
      "text/plain": [
       "0.11959708724499628"
      ]
     },
     "execution_count": 44,
     "metadata": {},
     "output_type": "execute_result"
    }
   ],
   "source": [
    "# the convert rate for 𝑝_old page under the null\n",
    "p_old = df2[df2['converted'] == 1]['converted'].count() / df2['converted'].count()\n",
    "p_old"
   ]
  },
  {
   "cell_type": "code",
   "execution_count": 45,
   "id": "ff0aaac4",
   "metadata": {},
   "outputs": [
    {
     "data": {
      "text/plain": [
       "145310"
      ]
     },
     "execution_count": 45,
     "metadata": {},
     "output_type": "execute_result"
    }
   ],
   "source": [
    "# the number of individuals in the treatment group\n",
    "𝑛_𝑛𝑒𝑤 = df2[df2['group'] == 'treatment'].shape[0]\n",
    "n_new"
   ]
  },
  {
   "cell_type": "code",
   "execution_count": 46,
   "id": "5156223f",
   "metadata": {},
   "outputs": [
    {
     "data": {
      "text/plain": [
       "145274"
      ]
     },
     "execution_count": 46,
     "metadata": {},
     "output_type": "execute_result"
    }
   ],
   "source": [
    "# the number of individuals in the control group\n",
    "n_old = df2[df2['group'] == 'control'].shape[0]\n",
    "n_old"
   ]
  },
  {
   "cell_type": "code",
   "execution_count": 47,
   "id": "40c5030d",
   "metadata": {},
   "outputs": [
    {
     "data": {
      "text/plain": [
       "0.11899387516344367"
      ]
     },
     "execution_count": 47,
     "metadata": {},
     "output_type": "execute_result"
    }
   ],
   "source": [
    "# Simulating 𝑛_𝑛𝑒𝑤 transactions with a convert rate of 𝑝_𝑛𝑒𝑤 under the null\n",
    "new_page_converted = np.random.choice([1, 0], size=n_new, p=[p_new, 1-p_new])\n",
    "new_page_p = new_page_converted.mean()\n",
    "new_page_p"
   ]
  },
  {
   "cell_type": "code",
   "execution_count": 48,
   "id": "c2d3c73a",
   "metadata": {},
   "outputs": [
    {
     "data": {
      "text/plain": [
       "0.11821798807770145"
      ]
     },
     "execution_count": 48,
     "metadata": {},
     "output_type": "execute_result"
    }
   ],
   "source": [
    "# Simulating 𝑛_old transactions with a convert rate of 𝑝_old under the null\n",
    "old_page_converted = np.random.choice([1, 0], size=n_old, p=[p_old, 1-p_old])\n",
    "old_page_p = old_page_converted.mean()\n",
    "old_page_p"
   ]
  },
  {
   "cell_type": "code",
   "execution_count": 49,
   "id": "336c22f0",
   "metadata": {},
   "outputs": [
    {
     "data": {
      "text/plain": [
       "0.0"
      ]
     },
     "execution_count": 49,
     "metadata": {},
     "output_type": "execute_result"
    }
   ],
   "source": [
    "# calculating the difference observed in the sample\n",
    "p_new - p_old"
   ]
  },
  {
   "cell_type": "code",
   "execution_count": 50,
   "id": "e2b4d79a",
   "metadata": {},
   "outputs": [],
   "source": [
    "# Simulate 10,000 𝑝_𝑛𝑒𝑤 - 𝑝_𝑜𝑙𝑑 values using the same process\n",
    "p_diffs = []\n",
    "for _ in range(10000):\n",
    "    new_page_converted_1 = np.random.choice([1, 0], size=n_new, p=[p_new, 1-p_new])\n",
    "    old_page_converted_1 = np.random.choice([1, 0], size=n_old, p=[p_old, 1-p_old])\n",
    "    p_new_1 = new_page_converted_1.mean()\n",
    "    p_old_1 = old_page_converted_1.mean()\n",
    "    p_diffs.append(p_new_1 - p_old_1)\n",
    "    \n",
    "p_diffs = np.array(p_diffs)"
   ]
  },
  {
   "cell_type": "code",
   "execution_count": 51,
   "id": "10e0299c",
   "metadata": {},
   "outputs": [
    {
     "data": {
      "image/png": "[encoded data removed]",
      "text/plain": [
       "<Figure size 432x288 with 1 Axes>"
      ]
     },
     "metadata": {
      "needs_background": "light"
     },
     "output_type": "display_data"
    }
   ],
   "source": [
    "# Plotting a histogram of the p_diffs\n",
    "plt.hist(p_diffs);\n",
    "plt.axvline(obs_diff, c='red');"
   ]
  },
  {
   "cell_type": "code",
   "execution_count": 52,
   "id": "aeebe893",
   "metadata": {},
   "outputs": [
    {
     "data": {
      "text/plain": [
       "0.9104"
      ]
     },
     "execution_count": 52,
     "metadata": {},
     "output_type": "execute_result"
    }
   ],
   "source": [
    "# calculating the P_value\n",
    "# (the proportion of the p_diffs that are greater than the actual difference observed in the dateset)\n",
    "(p_diffs > obs_diff).mean()"
   ]
  },
  {
   "cell_type": "markdown",
   "id": "8cbb9e29",
   "metadata": {},
   "source": [
    "**A/B Test Conclusion**\n",
    "\n",
    "- after running the test after everyweek of the experiment we see that the p-value is getting larger and larger than the type I error rate of 5% which rejects the null hypothesis everytime.\n",
    "- the last p-value is about 0.9 which is much larger than 5% which highly rejects the null hypothesis\n",
    "- so the test result is that the new page is not better than the old page."
   ]
  },
  {
   "cell_type": "markdown",
   "id": "f244b52a",
   "metadata": {},
   "source": [
    "### note:\n",
    "We could also use a built-in to achieve similar results.  Though using the built-in might be easier to code, the above portions are a walkthrough of the ideas that are critical to correctly thinking about statistical significance.\n",
    "\n",
    "`n_old` and `n_new` refer the the number of rows associated with the old page and new pages, respectively."
   ]
  },
  {
   "cell_type": "code",
   "execution_count": 53,
   "id": "060a5b34",
   "metadata": {},
   "outputs": [
    {
     "data": {
      "text/plain": [
       "(17489, 17264, 145274, 145310)"
      ]
     },
     "execution_count": 53,
     "metadata": {},
     "output_type": "execute_result"
    }
   ],
   "source": [
    "convert_old = df2[(df2['converted'] == 1) & (df2['group'] == 'control')]['converted'].count()\n",
    "convert_new = df2[(df2['converted'] == 1) & (df2['group'] == 'treatment')]['converted'].count()\n",
    "convert_old, convert_new, n_old ,n_new"
   ]
  },
  {
   "cell_type": "code",
   "execution_count": 54,
   "id": "76feb6a0",
   "metadata": {},
   "outputs": [
    {
     "data": {
      "text/plain": [
       "(1.3109241984234394, 0.9050583127590245)"
      ]
     },
     "execution_count": 54,
     "metadata": {},
     "output_type": "execute_result"
    }
   ],
   "source": [
    "zscore, pval = sm.stats.proportions_ztest((convert_old, convert_new), (n_old, n_new), 0, 'smaller')\n",
    "zscore, pval"
   ]
  },
  {
   "cell_type": "markdown",
   "id": "2e8c5a29",
   "metadata": {},
   "source": [
    "**Conclusion**\n",
    "\n",
    "- the p_value is > 0.05 (Type I error rate of 5%) then this doesn't reject the null hypothesis\n",
    "- the new page is not better than the old page\n",
    "- it agrees with the findings in the previous calculations as both p_values are almost the same."
   ]
  },
  {
   "cell_type": "markdown",
   "id": "2472372b",
   "metadata": {},
   "source": [
    "<a id='regression'></a>\n",
    "### Part III - A regression approach\n",
    "\n",
    "the result we acheived in the previous A/B test can also be acheived by performing regression."
   ]
  },
  {
   "cell_type": "markdown",
   "id": "f38eb840",
   "metadata": {},
   "source": [
    "**By using Logistic Regression**"
   ]
  },
  {
   "cell_type": "markdown",
   "id": "9d40b21d",
   "metadata": {},
   "source": [
    "The goal is to use **statsmodels** to fit the linear regression model to see if there is a significant difference in conversion based on which page a customer receives."
   ]
  },
  {
   "cell_type": "code",
   "execution_count": 55,
   "id": "6d01fd65",
   "metadata": {},
   "outputs": [],
   "source": [
    "# creating an intercept colmn and an ab_page column which is 1 when an individual receives the treatment and 0 if control.\n",
    "df3 = df2.copy()\n",
    "df3['intercept'] = 1\n",
    "\n",
    "# creating a dummy variable column for which page each user received\n",
    "df3[['control', 'treatment']] = pd.get_dummies(df3['group'])\n",
    "df3.drop(columns='control', inplace=True)\n",
    "df3.rename(columns={'treatment': 'ab_page'}, inplace=True)"
   ]
  },
  {
   "cell_type": "code",
   "execution_count": 56,
   "id": "5a80364f",
   "metadata": {},
   "outputs": [
    {
     "data": {
      "text/html": [
       "<div>\n",
       "<style scoped>\n",
       "    .dataframe tbody tr th:only-of-type {\n",
       "        vertical-align: middle;\n",
       "    }\n",
       "\n",
       "    .dataframe tbody tr th {\n",
       "        vertical-align: top;\n",
       "    }\n",
       "\n",
       "    .dataframe thead th {\n",
       "        text-align: right;\n",
       "    }\n",
       "</style>\n",
       "<table border=\"1\" class=\"dataframe\">\n",
       "  <thead>\n",
       "    <tr style=\"text-align: right;\">\n",
       "      <th></th>\n",
       "      <th>user_id</th>\n",
       "      <th>timestamp</th>\n",
       "      <th>group</th>\n",
       "      <th>landing_page</th>\n",
       "      <th>converted</th>\n",
       "      <th>intercept</th>\n",
       "      <th>ab_page</th>\n",
       "    </tr>\n",
       "  </thead>\n",
       "  <tbody>\n",
       "    <tr>\n",
       "      <th>131228</th>\n",
       "      <td>922696</td>\n",
       "      <td>2017-01-02 13:42:05.378582</td>\n",
       "      <td>treatment</td>\n",
       "      <td>new_page</td>\n",
       "      <td>0</td>\n",
       "      <td>1</td>\n",
       "      <td>1</td>\n",
       "    </tr>\n",
       "    <tr>\n",
       "      <th>184884</th>\n",
       "      <td>781507</td>\n",
       "      <td>2017-01-02 13:42:15.234051</td>\n",
       "      <td>control</td>\n",
       "      <td>old_page</td>\n",
       "      <td>0</td>\n",
       "      <td>1</td>\n",
       "      <td>0</td>\n",
       "    </tr>\n",
       "    <tr>\n",
       "      <th>83878</th>\n",
       "      <td>737319</td>\n",
       "      <td>2017-01-02 13:42:21.786186</td>\n",
       "      <td>control</td>\n",
       "      <td>old_page</td>\n",
       "      <td>0</td>\n",
       "      <td>1</td>\n",
       "      <td>0</td>\n",
       "    </tr>\n",
       "    <tr>\n",
       "      <th>102717</th>\n",
       "      <td>818377</td>\n",
       "      <td>2017-01-02 13:42:26.640581</td>\n",
       "      <td>treatment</td>\n",
       "      <td>new_page</td>\n",
       "      <td>0</td>\n",
       "      <td>1</td>\n",
       "      <td>1</td>\n",
       "    </tr>\n",
       "    <tr>\n",
       "      <th>158789</th>\n",
       "      <td>725857</td>\n",
       "      <td>2017-01-02 13:42:27.851110</td>\n",
       "      <td>treatment</td>\n",
       "      <td>new_page</td>\n",
       "      <td>0</td>\n",
       "      <td>1</td>\n",
       "      <td>1</td>\n",
       "    </tr>\n",
       "  </tbody>\n",
       "</table>\n",
       "</div>"
      ],
      "text/plain": [
       "        user_id                  timestamp      group landing_page  converted  \\\n",
       "131228   922696 2017-01-02 13:42:05.378582  treatment     new_page          0   \n",
       "184884   781507 2017-01-02 13:42:15.234051    control     old_page          0   \n",
       "83878    737319 2017-01-02 13:42:21.786186    control     old_page          0   \n",
       "102717   818377 2017-01-02 13:42:26.640581  treatment     new_page          0   \n",
       "158789   725857 2017-01-02 13:42:27.851110  treatment     new_page          0   \n",
       "\n",
       "        intercept  ab_page  \n",
       "131228          1        1  \n",
       "184884          1        0  \n",
       "83878           1        0  \n",
       "102717          1        1  \n",
       "158789          1        1  "
      ]
     },
     "execution_count": 56,
     "metadata": {},
     "output_type": "execute_result"
    }
   ],
   "source": [
    "df3.head()"
   ]
  },
  {
   "cell_type": "markdown",
   "id": "b9739e89",
   "metadata": {},
   "source": [
    "### fitting the data of the first week"
   ]
  },
  {
   "cell_type": "code",
   "execution_count": 57,
   "id": "3d1035f6",
   "metadata": {},
   "outputs": [],
   "source": [
    "week1_df2 = df3[df3['timestamp'] <= week1_prior]"
   ]
  },
  {
   "cell_type": "code",
   "execution_count": 58,
   "id": "c246ef5a",
   "metadata": {},
   "outputs": [
    {
     "data": {
      "text/html": [
       "<div>\n",
       "<style scoped>\n",
       "    .dataframe tbody tr th:only-of-type {\n",
       "        vertical-align: middle;\n",
       "    }\n",
       "\n",
       "    .dataframe tbody tr th {\n",
       "        vertical-align: top;\n",
       "    }\n",
       "\n",
       "    .dataframe thead th {\n",
       "        text-align: right;\n",
       "    }\n",
       "</style>\n",
       "<table border=\"1\" class=\"dataframe\">\n",
       "  <thead>\n",
       "    <tr style=\"text-align: right;\">\n",
       "      <th></th>\n",
       "      <th>user_id</th>\n",
       "      <th>timestamp</th>\n",
       "      <th>group</th>\n",
       "      <th>landing_page</th>\n",
       "      <th>converted</th>\n",
       "      <th>intercept</th>\n",
       "      <th>ab_page</th>\n",
       "    </tr>\n",
       "  </thead>\n",
       "  <tbody>\n",
       "    <tr>\n",
       "      <th>131228</th>\n",
       "      <td>922696</td>\n",
       "      <td>2017-01-02 13:42:05.378582</td>\n",
       "      <td>treatment</td>\n",
       "      <td>new_page</td>\n",
       "      <td>0</td>\n",
       "      <td>1</td>\n",
       "      <td>1</td>\n",
       "    </tr>\n",
       "    <tr>\n",
       "      <th>184884</th>\n",
       "      <td>781507</td>\n",
       "      <td>2017-01-02 13:42:15.234051</td>\n",
       "      <td>control</td>\n",
       "      <td>old_page</td>\n",
       "      <td>0</td>\n",
       "      <td>1</td>\n",
       "      <td>0</td>\n",
       "    </tr>\n",
       "    <tr>\n",
       "      <th>83878</th>\n",
       "      <td>737319</td>\n",
       "      <td>2017-01-02 13:42:21.786186</td>\n",
       "      <td>control</td>\n",
       "      <td>old_page</td>\n",
       "      <td>0</td>\n",
       "      <td>1</td>\n",
       "      <td>0</td>\n",
       "    </tr>\n",
       "    <tr>\n",
       "      <th>102717</th>\n",
       "      <td>818377</td>\n",
       "      <td>2017-01-02 13:42:26.640581</td>\n",
       "      <td>treatment</td>\n",
       "      <td>new_page</td>\n",
       "      <td>0</td>\n",
       "      <td>1</td>\n",
       "      <td>1</td>\n",
       "    </tr>\n",
       "    <tr>\n",
       "      <th>158789</th>\n",
       "      <td>725857</td>\n",
       "      <td>2017-01-02 13:42:27.851110</td>\n",
       "      <td>treatment</td>\n",
       "      <td>new_page</td>\n",
       "      <td>0</td>\n",
       "      <td>1</td>\n",
       "      <td>1</td>\n",
       "    </tr>\n",
       "    <tr>\n",
       "      <th>...</th>\n",
       "      <td>...</td>\n",
       "      <td>...</td>\n",
       "      <td>...</td>\n",
       "      <td>...</td>\n",
       "      <td>...</td>\n",
       "      <td>...</td>\n",
       "      <td>...</td>\n",
       "    </tr>\n",
       "    <tr>\n",
       "      <th>171876</th>\n",
       "      <td>933416</td>\n",
       "      <td>2017-01-09 13:41:16.908743</td>\n",
       "      <td>treatment</td>\n",
       "      <td>new_page</td>\n",
       "      <td>0</td>\n",
       "      <td>1</td>\n",
       "      <td>1</td>\n",
       "    </tr>\n",
       "    <tr>\n",
       "      <th>171200</th>\n",
       "      <td>701777</td>\n",
       "      <td>2017-01-09 13:41:31.452585</td>\n",
       "      <td>treatment</td>\n",
       "      <td>new_page</td>\n",
       "      <td>0</td>\n",
       "      <td>1</td>\n",
       "      <td>1</td>\n",
       "    </tr>\n",
       "    <tr>\n",
       "      <th>80645</th>\n",
       "      <td>881251</td>\n",
       "      <td>2017-01-09 13:41:36.327582</td>\n",
       "      <td>control</td>\n",
       "      <td>old_page</td>\n",
       "      <td>0</td>\n",
       "      <td>1</td>\n",
       "      <td>0</td>\n",
       "    </tr>\n",
       "    <tr>\n",
       "      <th>236217</th>\n",
       "      <td>744985</td>\n",
       "      <td>2017-01-09 13:41:46.526450</td>\n",
       "      <td>treatment</td>\n",
       "      <td>new_page</td>\n",
       "      <td>0</td>\n",
       "      <td>1</td>\n",
       "      <td>1</td>\n",
       "    </tr>\n",
       "    <tr>\n",
       "      <th>129840</th>\n",
       "      <td>761092</td>\n",
       "      <td>2017-01-09 13:41:58.146468</td>\n",
       "      <td>treatment</td>\n",
       "      <td>new_page</td>\n",
       "      <td>0</td>\n",
       "      <td>1</td>\n",
       "      <td>1</td>\n",
       "    </tr>\n",
       "  </tbody>\n",
       "</table>\n",
       "<p>92446 rows × 7 columns</p>\n",
       "</div>"
      ],
      "text/plain": [
       "        user_id                  timestamp      group landing_page  converted  \\\n",
       "131228   922696 2017-01-02 13:42:05.378582  treatment     new_page          0   \n",
       "184884   781507 2017-01-02 13:42:15.234051    control     old_page          0   \n",
       "83878    737319 2017-01-02 13:42:21.786186    control     old_page          0   \n",
       "102717   818377 2017-01-02 13:42:26.640581  treatment     new_page          0   \n",
       "158789   725857 2017-01-02 13:42:27.851110  treatment     new_page          0   \n",
       "...         ...                        ...        ...          ...        ...   \n",
       "171876   933416 2017-01-09 13:41:16.908743  treatment     new_page          0   \n",
       "171200   701777 2017-01-09 13:41:31.452585  treatment     new_page          0   \n",
       "80645    881251 2017-01-09 13:41:36.327582    control     old_page          0   \n",
       "236217   744985 2017-01-09 13:41:46.526450  treatment     new_page          0   \n",
       "129840   761092 2017-01-09 13:41:58.146468  treatment     new_page          0   \n",
       "\n",
       "        intercept  ab_page  \n",
       "131228          1        1  \n",
       "184884          1        0  \n",
       "83878           1        0  \n",
       "102717          1        1  \n",
       "158789          1        1  \n",
       "...           ...      ...  \n",
       "171876          1        1  \n",
       "171200          1        1  \n",
       "80645           1        0  \n",
       "236217          1        1  \n",
       "129840          1        1  \n",
       "\n",
       "[92446 rows x 7 columns]"
      ]
     },
     "execution_count": 58,
     "metadata": {},
     "output_type": "execute_result"
    }
   ],
   "source": [
    "week1_df2"
   ]
  },
  {
   "cell_type": "code",
   "execution_count": 59,
   "id": "a3b43747",
   "metadata": {},
   "outputs": [
    {
     "name": "stdout",
     "output_type": "stream",
     "text": [
      "Optimization terminated successfully.\n",
      "         Current function value: 0.363925\n",
      "         Iterations 6\n"
     ]
    }
   ],
   "source": [
    "model_1 = sm.Logit(week1_df2['converted'], week1_df2[['intercept', 'ab_page']])\n",
    "results_1 = model_1.fit()"
   ]
  },
  {
   "cell_type": "code",
   "execution_count": 60,
   "id": "85853466",
   "metadata": {},
   "outputs": [
    {
     "data": {
      "text/html": [
       "<table class=\"simpletable\">\n",
       "<tr>\n",
       "        <td>Model:</td>              <td>Logit</td>      <td>Pseudo R-squared:</td>    <td>0.000</td>  \n",
       "</tr>\n",
       "<tr>\n",
       "  <td>Dependent Variable:</td>     <td>converted</td>          <td>AIC:</td>        <td>67290.8856</td>\n",
       "</tr>\n",
       "<tr>\n",
       "         <td>Date:</td>        <td>2022-02-16 20:51</td>       <td>BIC:</td>        <td>67309.7543</td>\n",
       "</tr>\n",
       "<tr>\n",
       "   <td>No. Observations:</td>        <td>92446</td>       <td>Log-Likelihood:</td>    <td>-33643.</td> \n",
       "</tr>\n",
       "<tr>\n",
       "       <td>Df Model:</td>              <td>1</td>            <td>LL-Null:</td>        <td>-33644.</td> \n",
       "</tr>\n",
       "<tr>\n",
       "     <td>Df Residuals:</td>          <td>92444</td>        <td>LLR p-value:</td>      <td>0.41852</td> \n",
       "</tr>\n",
       "<tr>\n",
       "      <td>Converged:</td>           <td>1.0000</td>           <td>Scale:</td>         <td>1.0000</td>  \n",
       "</tr>\n",
       "<tr>\n",
       "    <td>No. Iterations:</td>        <td>6.0000</td>              <td></td>               <td></td>     \n",
       "</tr>\n",
       "</table>\n",
       "<table class=\"simpletable\">\n",
       "<tr>\n",
       "      <td></td>       <th>Coef.</th>  <th>Std.Err.</th>     <th>z</th>      <th>P>|z|</th> <th>[0.025</th>  <th>0.975]</th> \n",
       "</tr>\n",
       "<tr>\n",
       "  <th>intercept</th> <td>-1.9985</td>  <td>0.0144</td>  <td>-139.0708</td> <td>0.0000</td> <td>-2.0266</td> <td>-1.9703</td>\n",
       "</tr>\n",
       "<tr>\n",
       "  <th>ab_page</th>   <td>-0.0165</td>  <td>0.0204</td>   <td>-0.8090</td>  <td>0.4185</td> <td>-0.0564</td> <td>0.0234</td> \n",
       "</tr>\n",
       "</table>"
      ],
      "text/plain": [
       "<class 'statsmodels.iolib.summary2.Summary'>\n",
       "\"\"\"\n",
       "                         Results: Logit\n",
       "=================================================================\n",
       "Model:              Logit            Pseudo R-squared: 0.000     \n",
       "Dependent Variable: converted        AIC:              67290.8856\n",
       "Date:               2022-02-16 20:51 BIC:              67309.7543\n",
       "No. Observations:   92446            Log-Likelihood:   -33643.   \n",
       "Df Model:           1                LL-Null:          -33644.   \n",
       "Df Residuals:       92444            LLR p-value:      0.41852   \n",
       "Converged:          1.0000           Scale:            1.0000    \n",
       "No. Iterations:     6.0000                                       \n",
       "------------------------------------------------------------------\n",
       "             Coef.   Std.Err.      z      P>|z|    [0.025   0.975]\n",
       "------------------------------------------------------------------\n",
       "intercept   -1.9985    0.0144  -139.0708  0.0000  -2.0266  -1.9703\n",
       "ab_page     -0.0165    0.0204    -0.8090  0.4185  -0.0564   0.0234\n",
       "=================================================================\n",
       "\n",
       "\"\"\""
      ]
     },
     "execution_count": 60,
     "metadata": {},
     "output_type": "execute_result"
    }
   ],
   "source": [
    "results_1.summary2()"
   ]
  },
  {
   "cell_type": "code",
   "execution_count": 61,
   "id": "3fade59d",
   "metadata": {},
   "outputs": [
    {
     "data": {
      "text/plain": [
       "0.9836353793906724"
      ]
     },
     "execution_count": 61,
     "metadata": {},
     "output_type": "execute_result"
    }
   ],
   "source": [
    "np.exp(-0.0165)"
   ]
  },
  {
   "cell_type": "code",
   "execution_count": 62,
   "id": "8f962908",
   "metadata": {},
   "outputs": [
    {
     "data": {
      "text/plain": [
       "1.0166368767860556"
      ]
     },
     "execution_count": 62,
     "metadata": {},
     "output_type": "execute_result"
    }
   ],
   "source": [
    "1 / np.exp(-0.0165)"
   ]
  },
  {
   "cell_type": "markdown",
   "id": "5066b3b7",
   "metadata": {},
   "source": [
    "### fitting the data of the first two weeks"
   ]
  },
  {
   "cell_type": "code",
   "execution_count": 63,
   "id": "3e007ebe",
   "metadata": {},
   "outputs": [],
   "source": [
    "week2_df2 = df3[df3['timestamp'] <= week2_prior]"
   ]
  },
  {
   "cell_type": "code",
   "execution_count": 64,
   "id": "13f18baa",
   "metadata": {},
   "outputs": [
    {
     "data": {
      "text/html": [
       "<div>\n",
       "<style scoped>\n",
       "    .dataframe tbody tr th:only-of-type {\n",
       "        vertical-align: middle;\n",
       "    }\n",
       "\n",
       "    .dataframe tbody tr th {\n",
       "        vertical-align: top;\n",
       "    }\n",
       "\n",
       "    .dataframe thead th {\n",
       "        text-align: right;\n",
       "    }\n",
       "</style>\n",
       "<table border=\"1\" class=\"dataframe\">\n",
       "  <thead>\n",
       "    <tr style=\"text-align: right;\">\n",
       "      <th></th>\n",
       "      <th>user_id</th>\n",
       "      <th>timestamp</th>\n",
       "      <th>group</th>\n",
       "      <th>landing_page</th>\n",
       "      <th>converted</th>\n",
       "      <th>intercept</th>\n",
       "      <th>ab_page</th>\n",
       "    </tr>\n",
       "  </thead>\n",
       "  <tbody>\n",
       "    <tr>\n",
       "      <th>131228</th>\n",
       "      <td>922696</td>\n",
       "      <td>2017-01-02 13:42:05.378582</td>\n",
       "      <td>treatment</td>\n",
       "      <td>new_page</td>\n",
       "      <td>0</td>\n",
       "      <td>1</td>\n",
       "      <td>1</td>\n",
       "    </tr>\n",
       "    <tr>\n",
       "      <th>184884</th>\n",
       "      <td>781507</td>\n",
       "      <td>2017-01-02 13:42:15.234051</td>\n",
       "      <td>control</td>\n",
       "      <td>old_page</td>\n",
       "      <td>0</td>\n",
       "      <td>1</td>\n",
       "      <td>0</td>\n",
       "    </tr>\n",
       "    <tr>\n",
       "      <th>83878</th>\n",
       "      <td>737319</td>\n",
       "      <td>2017-01-02 13:42:21.786186</td>\n",
       "      <td>control</td>\n",
       "      <td>old_page</td>\n",
       "      <td>0</td>\n",
       "      <td>1</td>\n",
       "      <td>0</td>\n",
       "    </tr>\n",
       "    <tr>\n",
       "      <th>102717</th>\n",
       "      <td>818377</td>\n",
       "      <td>2017-01-02 13:42:26.640581</td>\n",
       "      <td>treatment</td>\n",
       "      <td>new_page</td>\n",
       "      <td>0</td>\n",
       "      <td>1</td>\n",
       "      <td>1</td>\n",
       "    </tr>\n",
       "    <tr>\n",
       "      <th>158789</th>\n",
       "      <td>725857</td>\n",
       "      <td>2017-01-02 13:42:27.851110</td>\n",
       "      <td>treatment</td>\n",
       "      <td>new_page</td>\n",
       "      <td>0</td>\n",
       "      <td>1</td>\n",
       "      <td>1</td>\n",
       "    </tr>\n",
       "    <tr>\n",
       "      <th>...</th>\n",
       "      <td>...</td>\n",
       "      <td>...</td>\n",
       "      <td>...</td>\n",
       "      <td>...</td>\n",
       "      <td>...</td>\n",
       "      <td>...</td>\n",
       "      <td>...</td>\n",
       "    </tr>\n",
       "    <tr>\n",
       "      <th>287237</th>\n",
       "      <td>643009</td>\n",
       "      <td>2017-01-16 13:41:48.089358</td>\n",
       "      <td>treatment</td>\n",
       "      <td>new_page</td>\n",
       "      <td>0</td>\n",
       "      <td>1</td>\n",
       "      <td>1</td>\n",
       "    </tr>\n",
       "    <tr>\n",
       "      <th>277357</th>\n",
       "      <td>711687</td>\n",
       "      <td>2017-01-16 13:41:57.235549</td>\n",
       "      <td>treatment</td>\n",
       "      <td>new_page</td>\n",
       "      <td>0</td>\n",
       "      <td>1</td>\n",
       "      <td>1</td>\n",
       "    </tr>\n",
       "    <tr>\n",
       "      <th>75739</th>\n",
       "      <td>925779</td>\n",
       "      <td>2017-01-16 13:41:58.527776</td>\n",
       "      <td>control</td>\n",
       "      <td>old_page</td>\n",
       "      <td>0</td>\n",
       "      <td>1</td>\n",
       "      <td>0</td>\n",
       "    </tr>\n",
       "    <tr>\n",
       "      <th>145943</th>\n",
       "      <td>906797</td>\n",
       "      <td>2017-01-16 13:42:02.541521</td>\n",
       "      <td>treatment</td>\n",
       "      <td>new_page</td>\n",
       "      <td>0</td>\n",
       "      <td>1</td>\n",
       "      <td>1</td>\n",
       "    </tr>\n",
       "    <tr>\n",
       "      <th>64249</th>\n",
       "      <td>919403</td>\n",
       "      <td>2017-01-16 13:42:04.582962</td>\n",
       "      <td>treatment</td>\n",
       "      <td>new_page</td>\n",
       "      <td>0</td>\n",
       "      <td>1</td>\n",
       "      <td>1</td>\n",
       "    </tr>\n",
       "  </tbody>\n",
       "</table>\n",
       "<p>185001 rows × 7 columns</p>\n",
       "</div>"
      ],
      "text/plain": [
       "        user_id                  timestamp      group landing_page  converted  \\\n",
       "131228   922696 2017-01-02 13:42:05.378582  treatment     new_page          0   \n",
       "184884   781507 2017-01-02 13:42:15.234051    control     old_page          0   \n",
       "83878    737319 2017-01-02 13:42:21.786186    control     old_page          0   \n",
       "102717   818377 2017-01-02 13:42:26.640581  treatment     new_page          0   \n",
       "158789   725857 2017-01-02 13:42:27.851110  treatment     new_page          0   \n",
       "...         ...                        ...        ...          ...        ...   \n",
       "287237   643009 2017-01-16 13:41:48.089358  treatment     new_page          0   \n",
       "277357   711687 2017-01-16 13:41:57.235549  treatment     new_page          0   \n",
       "75739    925779 2017-01-16 13:41:58.527776    control     old_page          0   \n",
       "145943   906797 2017-01-16 13:42:02.541521  treatment     new_page          0   \n",
       "64249    919403 2017-01-16 13:42:04.582962  treatment     new_page          0   \n",
       "\n",
       "        intercept  ab_page  \n",
       "131228          1        1  \n",
       "184884          1        0  \n",
       "83878           1        0  \n",
       "102717          1        1  \n",
       "158789          1        1  \n",
       "...           ...      ...  \n",
       "287237          1        1  \n",
       "277357          1        1  \n",
       "75739           1        0  \n",
       "145943          1        1  \n",
       "64249           1        1  \n",
       "\n",
       "[185001 rows x 7 columns]"
      ]
     },
     "execution_count": 64,
     "metadata": {},
     "output_type": "execute_result"
    }
   ],
   "source": [
    "week2_df2"
   ]
  },
  {
   "cell_type": "code",
   "execution_count": 65,
   "id": "d7cb6adc",
   "metadata": {},
   "outputs": [
    {
     "name": "stdout",
     "output_type": "stream",
     "text": [
      "Optimization terminated successfully.\n",
      "         Current function value: 0.364122\n",
      "         Iterations 6\n"
     ]
    }
   ],
   "source": [
    "model_2 = sm.Logit(week2_df2['converted'], week2_df2[['intercept', 'ab_page']])\n",
    "results_2 = model_2.fit()"
   ]
  },
  {
   "cell_type": "code",
   "execution_count": 66,
   "id": "95cc7518",
   "metadata": {},
   "outputs": [
    {
     "data": {
      "text/html": [
       "<table class=\"simpletable\">\n",
       "<tr>\n",
       "        <td>Model:</td>              <td>Logit</td>      <td>Pseudo R-squared:</td>    <td>0.000</td>   \n",
       "</tr>\n",
       "<tr>\n",
       "  <td>Dependent Variable:</td>     <td>converted</td>          <td>AIC:</td>        <td>134729.7053</td>\n",
       "</tr>\n",
       "<tr>\n",
       "         <td>Date:</td>        <td>2022-02-16 20:51</td>       <td>BIC:</td>        <td>134749.9616</td>\n",
       "</tr>\n",
       "<tr>\n",
       "   <td>No. Observations:</td>       <td>185001</td>       <td>Log-Likelihood:</td>    <td>-67363.</td>  \n",
       "</tr>\n",
       "<tr>\n",
       "       <td>Df Model:</td>              <td>1</td>            <td>LL-Null:</td>        <td>-67363.</td>  \n",
       "</tr>\n",
       "<tr>\n",
       "     <td>Df Residuals:</td>         <td>184999</td>        <td>LLR p-value:</td>      <td>0.25981</td>  \n",
       "</tr>\n",
       "<tr>\n",
       "      <td>Converged:</td>           <td>1.0000</td>           <td>Scale:</td>         <td>1.0000</td>   \n",
       "</tr>\n",
       "<tr>\n",
       "    <td>No. Iterations:</td>        <td>6.0000</td>              <td></td>               <td></td>      \n",
       "</tr>\n",
       "</table>\n",
       "<table class=\"simpletable\">\n",
       "<tr>\n",
       "      <td></td>       <th>Coef.</th>  <th>Std.Err.</th>     <th>z</th>      <th>P>|z|</th> <th>[0.025</th>  <th>0.975]</th> \n",
       "</tr>\n",
       "<tr>\n",
       "  <th>intercept</th> <td>-1.9977</td>  <td>0.0101</td>  <td>-196.9463</td> <td>0.0000</td> <td>-2.0176</td> <td>-1.9778</td>\n",
       "</tr>\n",
       "<tr>\n",
       "  <th>ab_page</th>   <td>-0.0162</td>  <td>0.0144</td>   <td>-1.1268</td>  <td>0.2598</td> <td>-0.0444</td> <td>0.0120</td> \n",
       "</tr>\n",
       "</table>"
      ],
      "text/plain": [
       "<class 'statsmodels.iolib.summary2.Summary'>\n",
       "\"\"\"\n",
       "                          Results: Logit\n",
       "==================================================================\n",
       "Model:              Logit            Pseudo R-squared: 0.000      \n",
       "Dependent Variable: converted        AIC:              134729.7053\n",
       "Date:               2022-02-16 20:51 BIC:              134749.9616\n",
       "No. Observations:   185001           Log-Likelihood:   -67363.    \n",
       "Df Model:           1                LL-Null:          -67363.    \n",
       "Df Residuals:       184999           LLR p-value:      0.25981    \n",
       "Converged:          1.0000           Scale:            1.0000     \n",
       "No. Iterations:     6.0000                                        \n",
       "-------------------------------------------------------------------\n",
       "              Coef.   Std.Err.      z      P>|z|    [0.025   0.975]\n",
       "-------------------------------------------------------------------\n",
       "intercept    -1.9977    0.0101  -196.9463  0.0000  -2.0176  -1.9778\n",
       "ab_page      -0.0162    0.0144    -1.1268  0.2598  -0.0444   0.0120\n",
       "==================================================================\n",
       "\n",
       "\"\"\""
      ]
     },
     "execution_count": 66,
     "metadata": {},
     "output_type": "execute_result"
    }
   ],
   "source": [
    "results_2.summary2()"
   ]
  },
  {
   "cell_type": "code",
   "execution_count": 67,
   "id": "b63f0e27",
   "metadata": {},
   "outputs": [
    {
     "data": {
      "text/plain": [
       "0.9839305142725083"
      ]
     },
     "execution_count": 67,
     "metadata": {},
     "output_type": "execute_result"
    }
   ],
   "source": [
    "np.exp(-0.0162)"
   ]
  },
  {
   "cell_type": "code",
   "execution_count": 68,
   "id": "e4bfef30",
   "metadata": {},
   "outputs": [
    {
     "data": {
      "text/plain": [
       "1.0163319314671047"
      ]
     },
     "execution_count": 68,
     "metadata": {},
     "output_type": "execute_result"
    }
   ],
   "source": [
    "1 / np.exp(-0.0162)"
   ]
  },
  {
   "cell_type": "markdown",
   "id": "98c0aec3",
   "metadata": {},
   "source": [
    "### fitting all the dataset"
   ]
  },
  {
   "cell_type": "code",
   "execution_count": 69,
   "id": "75dac1bd",
   "metadata": {},
   "outputs": [
    {
     "name": "stdout",
     "output_type": "stream",
     "text": [
      "Optimization terminated successfully.\n",
      "         Current function value: 0.366118\n",
      "         Iterations 6\n"
     ]
    }
   ],
   "source": [
    "model_3 = sm.Logit(df3['converted'], df3[['intercept', 'ab_page']])\n",
    "results_3 = model_3.fit()"
   ]
  },
  {
   "cell_type": "code",
   "execution_count": 70,
   "id": "7a1aebfb",
   "metadata": {},
   "outputs": [
    {
     "data": {
      "text/html": [
       "<table class=\"simpletable\">\n",
       "<tr>\n",
       "        <td>Model:</td>              <td>Logit</td>      <td>Pseudo R-squared:</td>    <td>0.000</td>   \n",
       "</tr>\n",
       "<tr>\n",
       "  <td>Dependent Variable:</td>     <td>converted</td>          <td>AIC:</td>        <td>212780.3502</td>\n",
       "</tr>\n",
       "<tr>\n",
       "         <td>Date:</td>        <td>2022-02-16 20:51</td>       <td>BIC:</td>        <td>212801.5095</td>\n",
       "</tr>\n",
       "<tr>\n",
       "   <td>No. Observations:</td>       <td>290584</td>       <td>Log-Likelihood:</td>  <td>-1.0639e+05</td>\n",
       "</tr>\n",
       "<tr>\n",
       "       <td>Df Model:</td>              <td>1</td>            <td>LL-Null:</td>      <td>-1.0639e+05</td>\n",
       "</tr>\n",
       "<tr>\n",
       "     <td>Df Residuals:</td>         <td>290582</td>        <td>LLR p-value:</td>      <td>0.18988</td>  \n",
       "</tr>\n",
       "<tr>\n",
       "      <td>Converged:</td>           <td>1.0000</td>           <td>Scale:</td>         <td>1.0000</td>   \n",
       "</tr>\n",
       "<tr>\n",
       "    <td>No. Iterations:</td>        <td>6.0000</td>              <td></td>               <td></td>      \n",
       "</tr>\n",
       "</table>\n",
       "<table class=\"simpletable\">\n",
       "<tr>\n",
       "      <td></td>       <th>Coef.</th>  <th>Std.Err.</th>     <th>z</th>      <th>P>|z|</th> <th>[0.025</th>  <th>0.975]</th> \n",
       "</tr>\n",
       "<tr>\n",
       "  <th>intercept</th> <td>-1.9888</td>  <td>0.0081</td>  <td>-246.6690</td> <td>0.0000</td> <td>-2.0046</td> <td>-1.9730</td>\n",
       "</tr>\n",
       "<tr>\n",
       "  <th>ab_page</th>   <td>-0.0150</td>  <td>0.0114</td>   <td>-1.3109</td>  <td>0.1899</td> <td>-0.0374</td> <td>0.0074</td> \n",
       "</tr>\n",
       "</table>"
      ],
      "text/plain": [
       "<class 'statsmodels.iolib.summary2.Summary'>\n",
       "\"\"\"\n",
       "                          Results: Logit\n",
       "==================================================================\n",
       "Model:              Logit            Pseudo R-squared: 0.000      \n",
       "Dependent Variable: converted        AIC:              212780.3502\n",
       "Date:               2022-02-16 20:51 BIC:              212801.5095\n",
       "No. Observations:   290584           Log-Likelihood:   -1.0639e+05\n",
       "Df Model:           1                LL-Null:          -1.0639e+05\n",
       "Df Residuals:       290582           LLR p-value:      0.18988    \n",
       "Converged:          1.0000           Scale:            1.0000     \n",
       "No. Iterations:     6.0000                                        \n",
       "-------------------------------------------------------------------\n",
       "              Coef.   Std.Err.      z      P>|z|    [0.025   0.975]\n",
       "-------------------------------------------------------------------\n",
       "intercept    -1.9888    0.0081  -246.6690  0.0000  -2.0046  -1.9730\n",
       "ab_page      -0.0150    0.0114    -1.3109  0.1899  -0.0374   0.0074\n",
       "==================================================================\n",
       "\n",
       "\"\"\""
      ]
     },
     "execution_count": 70,
     "metadata": {},
     "output_type": "execute_result"
    }
   ],
   "source": [
    "results_3.summary2()"
   ]
  },
  {
   "cell_type": "code",
   "execution_count": 71,
   "id": "c1be6e15",
   "metadata": {},
   "outputs": [
    {
     "data": {
      "text/plain": [
       "0.9851119396030626"
      ]
     },
     "execution_count": 71,
     "metadata": {},
     "output_type": "execute_result"
    }
   ],
   "source": [
    "np.exp(-0.0150)"
   ]
  },
  {
   "cell_type": "code",
   "execution_count": 72,
   "id": "d20a9e5c",
   "metadata": {},
   "outputs": [
    {
     "data": {
      "text/plain": [
       "1.015113064615719"
      ]
     },
     "execution_count": 72,
     "metadata": {},
     "output_type": "execute_result"
    }
   ],
   "source": [
    "1 / np.exp(-0.0150)"
   ]
  },
  {
   "cell_type": "markdown",
   "id": "c20ea4b4",
   "metadata": {},
   "source": [
    "## Results"
   ]
  },
  {
   "cell_type": "code",
   "execution_count": 73,
   "id": "99a615c8",
   "metadata": {},
   "outputs": [
    {
     "data": {
      "text/plain": [
       "(0.9836353793906724, 0.9839305142725083, 0.9851119396030626)"
      ]
     },
     "execution_count": 73,
     "metadata": {},
     "output_type": "execute_result"
    }
   ],
   "source": [
    "np.exp(-0.0165), np.exp(-0.0162), np.exp(-0.0150)"
   ]
  },
  {
   "cell_type": "code",
   "execution_count": 74,
   "id": "a9ee8467",
   "metadata": {},
   "outputs": [
    {
     "data": {
      "text/plain": [
       "(1.0166368767860556, 1.0163319314671047, 1.015113064615719)"
      ]
     },
     "execution_count": 74,
     "metadata": {},
     "output_type": "execute_result"
    }
   ],
   "source": [
    "1 / np.exp(-0.0165), 1 / np.exp(-0.0162), 1 / np.exp(-0.0150)"
   ]
  },
  {
   "cell_type": "markdown",
   "id": "a927088d",
   "metadata": {},
   "source": [
    "- **in regression we assume the alternative hypothesis to be that the conversion rate of the new page in not equal to the conversion rate of the old page where the null hypothesis is that the conversion rate of the new page is equal to conversion rate of the old page, which assumes a one-tailed test.**\n",
    "\n",
    "$$H_0: p_{new} - p_{old} <= 0$$\n",
    "\n",
    "$$H_1: p_{new} - p_{old} > 0$$\n",
    "\n",
    "- **where in A/B Test we assume the alternative hypothesis to be that the conversion rate of the new page is larger than  the conversion rate of the old page where the null hypothesis is that the conversion rate of the new page is less than or equal to conversion rate of the old page, which assumes a two-tailed test.**\n",
    "\n",
    "$$H_0: p_{new} = p_{old}$$\n",
    "\n",
    "$$H_1: p_{new} \\neq p_{old}$$\n",
    "\n",
    "- **the p_value of ab_page is associated with the significance in the relation between the test group and the conversion rate.**\n",
    "\n",
    "- **we can see the differenece in p_value of the regression test and the p_value of the A/B test which might be due to the difference in the hypotheses and the test tails side.**"
   ]
  },
  {
   "cell_type": "markdown",
   "id": "effda375",
   "metadata": {},
   "source": [
    "### Regression Conclusion"
   ]
  },
  {
   "cell_type": "markdown",
   "id": "bf061c4b",
   "metadata": {},
   "source": [
    "- we notice from the coefficients of the three models that the conversion rate before adding a new individual is higher than it as after a new indiviual is added to the experiment.\n",
    "- the p_value is still too large to reject the null hypothesis with 5% type I error rate.\n",
    "- hence we can't say that the new page is better than the old page."
   ]
  },
  {
   "cell_type": "markdown",
   "id": "6c9591e8",
   "metadata": {},
   "source": [
    "- **We might consider adding other things that might influence whether or not an individual converts like the time they spend on the page before they convert or the days of the week that gets more conversions**\n",
    "\n",
    "- **adding more variables to the model provides more accurate results but it gets more complex hence harder to interpret those results.**"
   ]
  },
  {
   "cell_type": "code",
   "execution_count": 75,
   "id": "daaa6bcf",
   "metadata": {},
   "outputs": [],
   "source": [
    "countries_df = pd.read_csv('Raw_Data/countries.csv')\n",
    "df_new = countries_df.set_index('user_id').join(df2.set_index('user_id'), how='inner')"
   ]
  },
  {
   "cell_type": "code",
   "execution_count": 76,
   "id": "ffa4c99d",
   "metadata": {},
   "outputs": [
    {
     "data": {
      "text/html": [
       "<div>\n",
       "<style scoped>\n",
       "    .dataframe tbody tr th:only-of-type {\n",
       "        vertical-align: middle;\n",
       "    }\n",
       "\n",
       "    .dataframe tbody tr th {\n",
       "        vertical-align: top;\n",
       "    }\n",
       "\n",
       "    .dataframe thead th {\n",
       "        text-align: right;\n",
       "    }\n",
       "</style>\n",
       "<table border=\"1\" class=\"dataframe\">\n",
       "  <thead>\n",
       "    <tr style=\"text-align: right;\">\n",
       "      <th></th>\n",
       "      <th>country</th>\n",
       "      <th>timestamp</th>\n",
       "      <th>group</th>\n",
       "      <th>landing_page</th>\n",
       "      <th>converted</th>\n",
       "    </tr>\n",
       "    <tr>\n",
       "      <th>user_id</th>\n",
       "      <th></th>\n",
       "      <th></th>\n",
       "      <th></th>\n",
       "      <th></th>\n",
       "      <th></th>\n",
       "    </tr>\n",
       "  </thead>\n",
       "  <tbody>\n",
       "    <tr>\n",
       "      <th>834778</th>\n",
       "      <td>UK</td>\n",
       "      <td>2017-01-14 23:08:43.304998</td>\n",
       "      <td>control</td>\n",
       "      <td>old_page</td>\n",
       "      <td>0</td>\n",
       "    </tr>\n",
       "    <tr>\n",
       "      <th>928468</th>\n",
       "      <td>US</td>\n",
       "      <td>2017-01-23 14:44:16.387854</td>\n",
       "      <td>treatment</td>\n",
       "      <td>new_page</td>\n",
       "      <td>0</td>\n",
       "    </tr>\n",
       "    <tr>\n",
       "      <th>822059</th>\n",
       "      <td>UK</td>\n",
       "      <td>2017-01-16 14:04:14.719771</td>\n",
       "      <td>treatment</td>\n",
       "      <td>new_page</td>\n",
       "      <td>1</td>\n",
       "    </tr>\n",
       "    <tr>\n",
       "      <th>711597</th>\n",
       "      <td>UK</td>\n",
       "      <td>2017-01-22 03:14:24.763511</td>\n",
       "      <td>control</td>\n",
       "      <td>old_page</td>\n",
       "      <td>0</td>\n",
       "    </tr>\n",
       "    <tr>\n",
       "      <th>710616</th>\n",
       "      <td>UK</td>\n",
       "      <td>2017-01-16 13:14:44.000513</td>\n",
       "      <td>treatment</td>\n",
       "      <td>new_page</td>\n",
       "      <td>0</td>\n",
       "    </tr>\n",
       "  </tbody>\n",
       "</table>\n",
       "</div>"
      ],
      "text/plain": [
       "        country                  timestamp      group landing_page  converted\n",
       "user_id                                                                      \n",
       "834778       UK 2017-01-14 23:08:43.304998    control     old_page          0\n",
       "928468       US 2017-01-23 14:44:16.387854  treatment     new_page          0\n",
       "822059       UK 2017-01-16 14:04:14.719771  treatment     new_page          1\n",
       "711597       UK 2017-01-22 03:14:24.763511    control     old_page          0\n",
       "710616       UK 2017-01-16 13:14:44.000513  treatment     new_page          0"
      ]
     },
     "execution_count": 76,
     "metadata": {},
     "output_type": "execute_result"
    }
   ],
   "source": [
    "df_new.head()"
   ]
  },
  {
   "cell_type": "code",
   "execution_count": 77,
   "id": "b0926d10",
   "metadata": {},
   "outputs": [
    {
     "data": {
      "text/plain": [
       "array(['UK', 'US', 'CA'], dtype=object)"
      ]
     },
     "execution_count": 77,
     "metadata": {},
     "output_type": "execute_result"
    }
   ],
   "source": [
    "df_new['country'].unique()"
   ]
  },
  {
   "cell_type": "code",
   "execution_count": 78,
   "id": "c2807ec9",
   "metadata": {},
   "outputs": [],
   "source": [
    "df_new['intercept'] = 1\n",
    "\n",
    "### Create the necessary dummy variables\n",
    "df_new[['CA', 'UK', 'US']] = pd.get_dummies(df_new['country'])\n",
    "df_new.drop(columns='CA', inplace=True)"
   ]
  },
  {
   "cell_type": "code",
   "execution_count": 79,
   "id": "f39a35ff",
   "metadata": {},
   "outputs": [
    {
     "name": "stdout",
     "output_type": "stream",
     "text": [
      "Optimization terminated successfully.\n",
      "         Current function value: 0.366116\n",
      "         Iterations 6\n"
     ]
    },
    {
     "data": {
      "text/html": [
       "<table class=\"simpletable\">\n",
       "<tr>\n",
       "        <td>Model:</td>              <td>Logit</td>      <td>Pseudo R-squared:</td>    <td>0.000</td>   \n",
       "</tr>\n",
       "<tr>\n",
       "  <td>Dependent Variable:</td>     <td>converted</td>          <td>AIC:</td>        <td>212780.8333</td>\n",
       "</tr>\n",
       "<tr>\n",
       "         <td>Date:</td>        <td>2022-02-16 20:52</td>       <td>BIC:</td>        <td>212812.5723</td>\n",
       "</tr>\n",
       "<tr>\n",
       "   <td>No. Observations:</td>       <td>290584</td>       <td>Log-Likelihood:</td>  <td>-1.0639e+05</td>\n",
       "</tr>\n",
       "<tr>\n",
       "       <td>Df Model:</td>              <td>2</td>            <td>LL-Null:</td>      <td>-1.0639e+05</td>\n",
       "</tr>\n",
       "<tr>\n",
       "     <td>Df Residuals:</td>         <td>290581</td>        <td>LLR p-value:</td>      <td>0.19835</td>  \n",
       "</tr>\n",
       "<tr>\n",
       "      <td>Converged:</td>           <td>1.0000</td>           <td>Scale:</td>         <td>1.0000</td>   \n",
       "</tr>\n",
       "<tr>\n",
       "    <td>No. Iterations:</td>        <td>6.0000</td>              <td></td>               <td></td>      \n",
       "</tr>\n",
       "</table>\n",
       "<table class=\"simpletable\">\n",
       "<tr>\n",
       "      <td></td>       <th>Coef.</th>  <th>Std.Err.</th>     <th>z</th>     <th>P>|z|</th> <th>[0.025</th>  <th>0.975]</th> \n",
       "</tr>\n",
       "<tr>\n",
       "  <th>intercept</th> <td>-2.0375</td>  <td>0.0260</td>  <td>-78.3639</td> <td>0.0000</td> <td>-2.0885</td> <td>-1.9866</td>\n",
       "</tr>\n",
       "<tr>\n",
       "  <th>UK</th>        <td>0.0507</td>   <td>0.0284</td>   <td>1.7863</td>  <td>0.0740</td> <td>-0.0049</td> <td>0.1064</td> \n",
       "</tr>\n",
       "<tr>\n",
       "  <th>US</th>        <td>0.0408</td>   <td>0.0269</td>   <td>1.5178</td>  <td>0.1291</td> <td>-0.0119</td> <td>0.0935</td> \n",
       "</tr>\n",
       "</table>"
      ],
      "text/plain": [
       "<class 'statsmodels.iolib.summary2.Summary'>\n",
       "\"\"\"\n",
       "                          Results: Logit\n",
       "==================================================================\n",
       "Model:              Logit            Pseudo R-squared: 0.000      \n",
       "Dependent Variable: converted        AIC:              212780.8333\n",
       "Date:               2022-02-16 20:52 BIC:              212812.5723\n",
       "No. Observations:   290584           Log-Likelihood:   -1.0639e+05\n",
       "Df Model:           2                LL-Null:          -1.0639e+05\n",
       "Df Residuals:       290581           LLR p-value:      0.19835    \n",
       "Converged:          1.0000           Scale:            1.0000     \n",
       "No. Iterations:     6.0000                                        \n",
       "-------------------------------------------------------------------\n",
       "               Coef.   Std.Err.     z      P>|z|    [0.025   0.975]\n",
       "-------------------------------------------------------------------\n",
       "intercept     -2.0375    0.0260  -78.3639  0.0000  -2.0885  -1.9866\n",
       "UK             0.0507    0.0284    1.7863  0.0740  -0.0049   0.1064\n",
       "US             0.0408    0.0269    1.5178  0.1291  -0.0119   0.0935\n",
       "==================================================================\n",
       "\n",
       "\"\"\""
      ]
     },
     "execution_count": 79,
     "metadata": {},
     "output_type": "execute_result"
    }
   ],
   "source": [
    "model_4 = sm.Logit(df_new['converted'], df_new[['intercept', 'UK', 'US']])\n",
    "results_4 = model_4.fit()\n",
    "results_4.summary2()"
   ]
  },
  {
   "cell_type": "markdown",
   "id": "b141aa39",
   "metadata": {},
   "source": [
    "### Results\n",
    "\n",
    "- as small the p-value of UK country it is still larger than 0.05\n",
    "- and the p_value of US country is too large\n",
    "- hence there is no more effect on the convertion rate BY UK and US than the baseline CA country.\n",
    "- so we can conclude that country doesn't have an impact on the conversion."
   ]
  },
  {
   "cell_type": "code",
   "execution_count": 80,
   "id": "817ba22a",
   "metadata": {},
   "outputs": [
    {
     "data": {
      "text/plain": [
       "(0.9505637969004034, 1.052007243765014)"
      ]
     },
     "execution_count": 80,
     "metadata": {},
     "output_type": "execute_result"
    }
   ],
   "source": [
    "1 / np.exp(0.0507), np.exp(0.0507)"
   ]
  },
  {
   "cell_type": "code",
   "execution_count": 81,
   "id": "2f150db1",
   "metadata": {},
   "outputs": [
    {
     "data": {
      "text/plain": [
       "(0.9600211149716509, 1.0416437559600236)"
      ]
     },
     "execution_count": 81,
     "metadata": {},
     "output_type": "execute_result"
    }
   ],
   "source": [
    "1 / np.exp(0.0408), np.exp(0.0408)"
   ]
  },
  {
   "cell_type": "code",
   "execution_count": 82,
   "id": "539c7d80",
   "metadata": {},
   "outputs": [],
   "source": [
    "# creating the neccessary columns for the dummy variables\n",
    "df_new_2 = df_new.copy()\n",
    "df_new_2[['control', 'treatment']] = pd.get_dummies(df_new['group'])\n",
    "df_new_2.drop(columns='control', inplace=True)\n",
    "df_new_2.rename(columns={'treatment': 'ab_page'}, inplace=True)\n",
    "df_new_2['interaction_tr_UK'] = df_new_2['ab_page'] * df_new_2['UK']\n",
    "df_new_2['interaction_tr_Us'] = df_new_2['ab_page'] * df_new_2['US']"
   ]
  },
  {
   "cell_type": "code",
   "execution_count": 83,
   "id": "b5fa19f9",
   "metadata": {},
   "outputs": [
    {
     "data": {
      "text/html": [
       "<div>\n",
       "<style scoped>\n",
       "    .dataframe tbody tr th:only-of-type {\n",
       "        vertical-align: middle;\n",
       "    }\n",
       "\n",
       "    .dataframe tbody tr th {\n",
       "        vertical-align: top;\n",
       "    }\n",
       "\n",
       "    .dataframe thead th {\n",
       "        text-align: right;\n",
       "    }\n",
       "</style>\n",
       "<table border=\"1\" class=\"dataframe\">\n",
       "  <thead>\n",
       "    <tr style=\"text-align: right;\">\n",
       "      <th></th>\n",
       "      <th>country</th>\n",
       "      <th>timestamp</th>\n",
       "      <th>group</th>\n",
       "      <th>landing_page</th>\n",
       "      <th>converted</th>\n",
       "      <th>intercept</th>\n",
       "      <th>UK</th>\n",
       "      <th>US</th>\n",
       "      <th>ab_page</th>\n",
       "      <th>interaction_tr_UK</th>\n",
       "      <th>interaction_tr_Us</th>\n",
       "    </tr>\n",
       "    <tr>\n",
       "      <th>user_id</th>\n",
       "      <th></th>\n",
       "      <th></th>\n",
       "      <th></th>\n",
       "      <th></th>\n",
       "      <th></th>\n",
       "      <th></th>\n",
       "      <th></th>\n",
       "      <th></th>\n",
       "      <th></th>\n",
       "      <th></th>\n",
       "      <th></th>\n",
       "    </tr>\n",
       "  </thead>\n",
       "  <tbody>\n",
       "    <tr>\n",
       "      <th>834778</th>\n",
       "      <td>UK</td>\n",
       "      <td>2017-01-14 23:08:43.304998</td>\n",
       "      <td>control</td>\n",
       "      <td>old_page</td>\n",
       "      <td>0</td>\n",
       "      <td>1</td>\n",
       "      <td>1</td>\n",
       "      <td>0</td>\n",
       "      <td>0</td>\n",
       "      <td>0</td>\n",
       "      <td>0</td>\n",
       "    </tr>\n",
       "    <tr>\n",
       "      <th>928468</th>\n",
       "      <td>US</td>\n",
       "      <td>2017-01-23 14:44:16.387854</td>\n",
       "      <td>treatment</td>\n",
       "      <td>new_page</td>\n",
       "      <td>0</td>\n",
       "      <td>1</td>\n",
       "      <td>0</td>\n",
       "      <td>1</td>\n",
       "      <td>1</td>\n",
       "      <td>0</td>\n",
       "      <td>1</td>\n",
       "    </tr>\n",
       "    <tr>\n",
       "      <th>822059</th>\n",
       "      <td>UK</td>\n",
       "      <td>2017-01-16 14:04:14.719771</td>\n",
       "      <td>treatment</td>\n",
       "      <td>new_page</td>\n",
       "      <td>1</td>\n",
       "      <td>1</td>\n",
       "      <td>1</td>\n",
       "      <td>0</td>\n",
       "      <td>1</td>\n",
       "      <td>1</td>\n",
       "      <td>0</td>\n",
       "    </tr>\n",
       "    <tr>\n",
       "      <th>711597</th>\n",
       "      <td>UK</td>\n",
       "      <td>2017-01-22 03:14:24.763511</td>\n",
       "      <td>control</td>\n",
       "      <td>old_page</td>\n",
       "      <td>0</td>\n",
       "      <td>1</td>\n",
       "      <td>1</td>\n",
       "      <td>0</td>\n",
       "      <td>0</td>\n",
       "      <td>0</td>\n",
       "      <td>0</td>\n",
       "    </tr>\n",
       "    <tr>\n",
       "      <th>710616</th>\n",
       "      <td>UK</td>\n",
       "      <td>2017-01-16 13:14:44.000513</td>\n",
       "      <td>treatment</td>\n",
       "      <td>new_page</td>\n",
       "      <td>0</td>\n",
       "      <td>1</td>\n",
       "      <td>1</td>\n",
       "      <td>0</td>\n",
       "      <td>1</td>\n",
       "      <td>1</td>\n",
       "      <td>0</td>\n",
       "    </tr>\n",
       "  </tbody>\n",
       "</table>\n",
       "</div>"
      ],
      "text/plain": [
       "        country                  timestamp      group landing_page  converted  \\\n",
       "user_id                                                                         \n",
       "834778       UK 2017-01-14 23:08:43.304998    control     old_page          0   \n",
       "928468       US 2017-01-23 14:44:16.387854  treatment     new_page          0   \n",
       "822059       UK 2017-01-16 14:04:14.719771  treatment     new_page          1   \n",
       "711597       UK 2017-01-22 03:14:24.763511    control     old_page          0   \n",
       "710616       UK 2017-01-16 13:14:44.000513  treatment     new_page          0   \n",
       "\n",
       "         intercept  UK  US  ab_page  interaction_tr_UK  interaction_tr_Us  \n",
       "user_id                                                                    \n",
       "834778           1   1   0        0                  0                  0  \n",
       "928468           1   0   1        1                  0                  1  \n",
       "822059           1   1   0        1                  1                  0  \n",
       "711597           1   1   0        0                  0                  0  \n",
       "710616           1   1   0        1                  1                  0  "
      ]
     },
     "execution_count": 83,
     "metadata": {},
     "output_type": "execute_result"
    }
   ],
   "source": [
    "df_new_2.head()"
   ]
  },
  {
   "cell_type": "code",
   "execution_count": 84,
   "id": "466f7537",
   "metadata": {},
   "outputs": [
    {
     "name": "stdout",
     "output_type": "stream",
     "text": [
      "Optimization terminated successfully.\n",
      "         Current function value: 0.366109\n",
      "         Iterations 6\n"
     ]
    },
    {
     "data": {
      "text/html": [
       "<table class=\"simpletable\">\n",
       "<tr>\n",
       "        <td>Model:</td>              <td>Logit</td>      <td>Pseudo R-squared:</td>    <td>0.000</td>   \n",
       "</tr>\n",
       "<tr>\n",
       "  <td>Dependent Variable:</td>     <td>converted</td>          <td>AIC:</td>        <td>212782.6602</td>\n",
       "</tr>\n",
       "<tr>\n",
       "         <td>Date:</td>        <td>2022-02-16 20:52</td>       <td>BIC:</td>        <td>212846.1381</td>\n",
       "</tr>\n",
       "<tr>\n",
       "   <td>No. Observations:</td>       <td>290584</td>       <td>Log-Likelihood:</td>  <td>-1.0639e+05</td>\n",
       "</tr>\n",
       "<tr>\n",
       "       <td>Df Model:</td>              <td>5</td>            <td>LL-Null:</td>      <td>-1.0639e+05</td>\n",
       "</tr>\n",
       "<tr>\n",
       "     <td>Df Residuals:</td>         <td>290578</td>        <td>LLR p-value:</td>      <td>0.19199</td>  \n",
       "</tr>\n",
       "<tr>\n",
       "      <td>Converged:</td>           <td>1.0000</td>           <td>Scale:</td>         <td>1.0000</td>   \n",
       "</tr>\n",
       "<tr>\n",
       "    <td>No. Iterations:</td>        <td>6.0000</td>              <td></td>               <td></td>      \n",
       "</tr>\n",
       "</table>\n",
       "<table class=\"simpletable\">\n",
       "<tr>\n",
       "          <td></td>           <th>Coef.</th>  <th>Std.Err.</th>     <th>z</th>     <th>P>|z|</th> <th>[0.025</th>  <th>0.975]</th> \n",
       "</tr>\n",
       "<tr>\n",
       "  <th>intercept</th>         <td>-2.0040</td>  <td>0.0364</td>  <td>-55.0077</td> <td>0.0000</td> <td>-2.0754</td> <td>-1.9326</td>\n",
       "</tr>\n",
       "<tr>\n",
       "  <th>ab_page</th>           <td>-0.0674</td>  <td>0.0520</td>   <td>-1.2967</td> <td>0.1947</td> <td>-0.1694</td> <td>0.0345</td> \n",
       "</tr>\n",
       "<tr>\n",
       "  <th>UK</th>                <td>0.0118</td>   <td>0.0398</td>   <td>0.2957</td>  <td>0.7674</td> <td>-0.0663</td> <td>0.0899</td> \n",
       "</tr>\n",
       "<tr>\n",
       "  <th>interaction_tr_UK</th> <td>0.0783</td>   <td>0.0568</td>   <td>1.3783</td>  <td>0.1681</td> <td>-0.0330</td> <td>0.1896</td> \n",
       "</tr>\n",
       "<tr>\n",
       "  <th>US</th>                <td>0.0175</td>   <td>0.0377</td>   <td>0.4652</td>  <td>0.6418</td> <td>-0.0563</td> <td>0.0914</td> \n",
       "</tr>\n",
       "<tr>\n",
       "  <th>interaction_tr_Us</th> <td>0.0469</td>   <td>0.0538</td>   <td>0.8718</td>  <td>0.3833</td> <td>-0.0585</td> <td>0.1523</td> \n",
       "</tr>\n",
       "</table>"
      ],
      "text/plain": [
       "<class 'statsmodels.iolib.summary2.Summary'>\n",
       "\"\"\"\n",
       "                          Results: Logit\n",
       "==================================================================\n",
       "Model:              Logit            Pseudo R-squared: 0.000      \n",
       "Dependent Variable: converted        AIC:              212782.6602\n",
       "Date:               2022-02-16 20:52 BIC:              212846.1381\n",
       "No. Observations:   290584           Log-Likelihood:   -1.0639e+05\n",
       "Df Model:           5                LL-Null:          -1.0639e+05\n",
       "Df Residuals:       290578           LLR p-value:      0.19199    \n",
       "Converged:          1.0000           Scale:            1.0000     \n",
       "No. Iterations:     6.0000                                        \n",
       "------------------------------------------------------------------\n",
       "                   Coef.  Std.Err.    z     P>|z|   [0.025  0.975]\n",
       "------------------------------------------------------------------\n",
       "intercept         -2.0040   0.0364 -55.0077 0.0000 -2.0754 -1.9326\n",
       "ab_page           -0.0674   0.0520  -1.2967 0.1947 -0.1694  0.0345\n",
       "UK                 0.0118   0.0398   0.2957 0.7674 -0.0663  0.0899\n",
       "interaction_tr_UK  0.0783   0.0568   1.3783 0.1681 -0.0330  0.1896\n",
       "US                 0.0175   0.0377   0.4652 0.6418 -0.0563  0.0914\n",
       "interaction_tr_Us  0.0469   0.0538   0.8718 0.3833 -0.0585  0.1523\n",
       "==================================================================\n",
       "\n",
       "\"\"\""
      ]
     },
     "execution_count": 84,
     "metadata": {},
     "output_type": "execute_result"
    }
   ],
   "source": [
    "### Fit Your Linear Model And Obtain the Results\n",
    "model_5 = sm.Logit(df_new_2['converted'], df_new_2[['intercept', 'ab_page', 'UK', 'interaction_tr_UK', 'US', 'interaction_tr_Us']])\n",
    "results_5 = model_5.fit()\n",
    "results_5.summary2()"
   ]
  },
  {
   "cell_type": "markdown",
   "id": "c43d85b8",
   "metadata": {},
   "source": [
    "### Results\n",
    "\n",
    "- from the high p_values we can conclude that an interaction between page and country has no significant effects on conversion."
   ]
  },
  {
   "cell_type": "markdown",
   "id": "a022763c",
   "metadata": {},
   "source": [
    "<a id='conclusions'></a>\n",
    "## Conclusions"
   ]
  },
  {
   "cell_type": "markdown",
   "id": "a16d34ae",
   "metadata": {},
   "source": [
    "- After running the Probability, A/B Test and the Regeression Test we couldn't reject the null hypothesis hence not enough evidence that the new_page increases the conversion rate as compared to the old_page.\n",
    "- US, UK and CA countries has no significant effect on the conversion rate.\n",
    "- by having a large sample size and From the A/B Test results we notice that running the experiment for more time won't get any better results hence not necessary.\n",
    "- it's better to work on developing a better page than the tested new page."
   ]
  },
  {
   "cell_type": "markdown",
   "id": "91927e28",
   "metadata": {},
   "source": [
    "## Table of Contents\n",
    "- [Introduction](#intro)\n",
    "- [Part I - Probability](#probability)\n",
    "- [Part II - A/B Test](#ab_test)\n",
    "- [Part III - Regression](#regression)\n",
    "- [Conclusion](#conclusions)"
   ]
  }
 ],
 "metadata": {
  "kernelspec": {
   "display_name": "Python 3 (ipykernel)",
   "language": "python",
   "name": "python3"
  },
  "language_info": {
   "codemirror_mode": {
    "name": "ipython",
    "version": 3
   },
   "file_extension": ".py",
   "mimetype": "text/x-python",
   "name": "python",
   "nbconvert_exporter": "python",
   "pygments_lexer": "ipython3",
   "version": "3.10.0"
  }
 },
 "nbformat": 4,
 "nbformat_minor": 5
}
