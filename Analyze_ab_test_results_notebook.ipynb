{
 "cells": [
  {
   "cell_type": "markdown",
   "id": "4f7a938b",
   "metadata": {},
   "source": [
    "## Analyze A/B Test Results\n",
    "\n",
    "<a id='intro'></a>\n",
    "### Introduction\n",
    "\n",
    "A/B tests are very commonly performed by data analysts and data scientists.\n",
    "\n",
    "For this project, Our goal is to work through this notebook to help the company understand if they should implement the new page, keep the old page, or perhaps run the experiment longer to make their decision."
   ]
  },
  {
   "cell_type": "markdown",
   "id": "723c3c93",
   "metadata": {},
   "source": [
    "### Importing needed libiraries"
   ]
  },
  {
   "cell_type": "code",
   "execution_count": 1,
   "id": "8e412d62",
   "metadata": {},
   "outputs": [],
   "source": [
    "import pandas as pd\n",
    "import numpy as np\n",
    "import random\n",
    "import matplotlib.pyplot as plt\n",
    "%matplotlib inline\n",
    "random.seed(42)"
   ]
  },
  {
   "cell_type": "markdown",
   "id": "668ea84d",
   "metadata": {},
   "source": [
    "### Wrangling the data"
   ]
  },
  {
   "cell_type": "code",
   "execution_count": 2,
   "id": "63d37997",
   "metadata": {},
   "outputs": [
    {
     "data": {
      "text/html": [
       "<div>\n",
       "<style scoped>\n",
       "    .dataframe tbody tr th:only-of-type {\n",
       "        vertical-align: middle;\n",
       "    }\n",
       "\n",
       "    .dataframe tbody tr th {\n",
       "        vertical-align: top;\n",
       "    }\n",
       "\n",
       "    .dataframe thead th {\n",
       "        text-align: right;\n",
       "    }\n",
       "</style>\n",
       "<table border=\"1\" class=\"dataframe\">\n",
       "  <thead>\n",
       "    <tr style=\"text-align: right;\">\n",
       "      <th></th>\n",
       "      <th>user_id</th>\n",
       "      <th>timestamp</th>\n",
       "      <th>group</th>\n",
       "      <th>landing_page</th>\n",
       "      <th>converted</th>\n",
       "    </tr>\n",
       "  </thead>\n",
       "  <tbody>\n",
       "    <tr>\n",
       "      <th>0</th>\n",
       "      <td>851104</td>\n",
       "      <td>2017-01-21 22:11:48.556739</td>\n",
       "      <td>control</td>\n",
       "      <td>old_page</td>\n",
       "      <td>0</td>\n",
       "    </tr>\n",
       "    <tr>\n",
       "      <th>1</th>\n",
       "      <td>804228</td>\n",
       "      <td>2017-01-12 08:01:45.159739</td>\n",
       "      <td>control</td>\n",
       "      <td>old_page</td>\n",
       "      <td>0</td>\n",
       "    </tr>\n",
       "    <tr>\n",
       "      <th>2</th>\n",
       "      <td>661590</td>\n",
       "      <td>2017-01-11 16:55:06.154213</td>\n",
       "      <td>treatment</td>\n",
       "      <td>new_page</td>\n",
       "      <td>0</td>\n",
       "    </tr>\n",
       "    <tr>\n",
       "      <th>3</th>\n",
       "      <td>853541</td>\n",
       "      <td>2017-01-08 18:28:03.143765</td>\n",
       "      <td>treatment</td>\n",
       "      <td>new_page</td>\n",
       "      <td>0</td>\n",
       "    </tr>\n",
       "    <tr>\n",
       "      <th>4</th>\n",
       "      <td>864975</td>\n",
       "      <td>2017-01-21 01:52:26.210827</td>\n",
       "      <td>control</td>\n",
       "      <td>old_page</td>\n",
       "      <td>1</td>\n",
       "    </tr>\n",
       "  </tbody>\n",
       "</table>\n",
       "</div>"
      ],
      "text/plain": [
       "   user_id                  timestamp      group landing_page  converted\n",
       "0   851104 2017-01-21 22:11:48.556739    control     old_page          0\n",
       "1   804228 2017-01-12 08:01:45.159739    control     old_page          0\n",
       "2   661590 2017-01-11 16:55:06.154213  treatment     new_page          0\n",
       "3   853541 2017-01-08 18:28:03.143765  treatment     new_page          0\n",
       "4   864975 2017-01-21 01:52:26.210827    control     old_page          1"
      ]
     },
     "execution_count": 2,
     "metadata": {},
     "output_type": "execute_result"
    }
   ],
   "source": [
    "# reading the data and storing it in a dataframe\n",
    "df = pd.read_csv('Raw_Data/ab_data.csv')\n",
    "df['timestamp'] = pd.to_datetime(df['timestamp'])\n",
    "df.head()"
   ]
  },
  {
   "cell_type": "code",
   "execution_count": 3,
   "id": "a669d0af",
   "metadata": {},
   "outputs": [
    {
     "data": {
      "text/plain": [
       "294478"
      ]
     },
     "execution_count": 3,
     "metadata": {},
     "output_type": "execute_result"
    }
   ],
   "source": [
    "# number of rows in the dataset\n",
    "df.shape[0]"
   ]
  },
  {
   "cell_type": "code",
   "execution_count": 4,
   "id": "4d5ef79f",
   "metadata": {},
   "outputs": [
    {
     "data": {
      "text/plain": [
       "290584"
      ]
     },
     "execution_count": 4,
     "metadata": {},
     "output_type": "execute_result"
    }
   ],
   "source": [
    "# the number of unique users in the dataset\n",
    "len(df.user_id.unique())"
   ]
  },
  {
   "cell_type": "code",
   "execution_count": 5,
   "id": "6d7492f0",
   "metadata": {},
   "outputs": [
    {
     "data": {
      "text/plain": [
       "0.11965919355605512"
      ]
     },
     "execution_count": 5,
     "metadata": {},
     "output_type": "execute_result"
    }
   ],
   "source": [
    "# the proportion of total users that converted regardless of page = coverted / total\n",
    "df[df['converted'] == 1]['converted'].count() / df['converted'].count()"
   ]
  },
  {
   "cell_type": "code",
   "execution_count": 6,
   "id": "6bedac5a",
   "metadata": {},
   "outputs": [
    {
     "data": {
      "text/plain": [
       "3893"
      ]
     },
     "execution_count": 6,
     "metadata": {},
     "output_type": "execute_result"
    }
   ],
   "source": [
    "# the number of times a user from the experiment group landed in the old page\n",
    "df[((df['group'] == 'treatment') == (df['landing_page'] == 'new_page')) == False]['user_id'].count()"
   ]
  },
  {
   "cell_type": "code",
   "execution_count": 7,
   "id": "e6410dc0",
   "metadata": {},
   "outputs": [
    {
     "data": {
      "text/plain": [
       "user_id         0\n",
       "timestamp       0\n",
       "group           0\n",
       "landing_page    0\n",
       "converted       0\n",
       "dtype: int64"
      ]
     },
     "execution_count": 7,
     "metadata": {},
     "output_type": "execute_result"
    }
   ],
   "source": [
    "# checking for missing values\n",
    "df.isnull().sum()"
   ]
  },
  {
   "cell_type": "markdown",
   "id": "6548529d",
   "metadata": {},
   "source": [
    "### note:\n",
    "For the rows where **treatment** is not aligned with **new_page** or **control** is not aligned with **old_page**, we cannot be sure if this row truly received the new or old page."
   ]
  },
  {
   "cell_type": "code",
   "execution_count": 8,
   "id": "b951a75d",
   "metadata": {},
   "outputs": [
    {
     "data": {
      "text/html": [
       "<div>\n",
       "<style scoped>\n",
       "    .dataframe tbody tr th:only-of-type {\n",
       "        vertical-align: middle;\n",
       "    }\n",
       "\n",
       "    .dataframe tbody tr th {\n",
       "        vertical-align: top;\n",
       "    }\n",
       "\n",
       "    .dataframe thead th {\n",
       "        text-align: right;\n",
       "    }\n",
       "</style>\n",
       "<table border=\"1\" class=\"dataframe\">\n",
       "  <thead>\n",
       "    <tr style=\"text-align: right;\">\n",
       "      <th></th>\n",
       "      <th>user_id</th>\n",
       "      <th>timestamp</th>\n",
       "      <th>group</th>\n",
       "      <th>landing_page</th>\n",
       "      <th>converted</th>\n",
       "    </tr>\n",
       "  </thead>\n",
       "  <tbody>\n",
       "    <tr>\n",
       "      <th>22</th>\n",
       "      <td>767017</td>\n",
       "      <td>2017-01-12 22:58:14.991443</td>\n",
       "      <td>control</td>\n",
       "      <td>new_page</td>\n",
       "      <td>0</td>\n",
       "    </tr>\n",
       "    <tr>\n",
       "      <th>240</th>\n",
       "      <td>733976</td>\n",
       "      <td>2017-01-11 15:11:16.407599</td>\n",
       "      <td>control</td>\n",
       "      <td>new_page</td>\n",
       "      <td>0</td>\n",
       "    </tr>\n",
       "    <tr>\n",
       "      <th>308</th>\n",
       "      <td>857184</td>\n",
       "      <td>2017-01-20 07:34:59.832626</td>\n",
       "      <td>treatment</td>\n",
       "      <td>old_page</td>\n",
       "      <td>0</td>\n",
       "    </tr>\n",
       "    <tr>\n",
       "      <th>327</th>\n",
       "      <td>686623</td>\n",
       "      <td>2017-01-09 14:26:40.734775</td>\n",
       "      <td>treatment</td>\n",
       "      <td>old_page</td>\n",
       "      <td>0</td>\n",
       "    </tr>\n",
       "    <tr>\n",
       "      <th>357</th>\n",
       "      <td>856078</td>\n",
       "      <td>2017-01-12 12:29:30.354835</td>\n",
       "      <td>treatment</td>\n",
       "      <td>old_page</td>\n",
       "      <td>0</td>\n",
       "    </tr>\n",
       "  </tbody>\n",
       "</table>\n",
       "</div>"
      ],
      "text/plain": [
       "     user_id                  timestamp      group landing_page  converted\n",
       "22    767017 2017-01-12 22:58:14.991443    control     new_page          0\n",
       "240   733976 2017-01-11 15:11:16.407599    control     new_page          0\n",
       "308   857184 2017-01-20 07:34:59.832626  treatment     old_page          0\n",
       "327   686623 2017-01-09 14:26:40.734775  treatment     old_page          0\n",
       "357   856078 2017-01-12 12:29:30.354835  treatment     old_page          0"
      ]
     },
     "execution_count": 8,
     "metadata": {},
     "output_type": "execute_result"
    }
   ],
   "source": [
    "# extracing the rows where each group dont't line up with their landing page\n",
    "df1 = df[((df['group'] == 'treatment') == (df['landing_page'] == 'new_page')) == False]\n",
    "df1.head()"
   ]
  },
  {
   "cell_type": "code",
   "execution_count": 9,
   "id": "f648e7cd",
   "metadata": {},
   "outputs": [
    {
     "data": {
      "text/html": [
       "<div>\n",
       "<style scoped>\n",
       "    .dataframe tbody tr th:only-of-type {\n",
       "        vertical-align: middle;\n",
       "    }\n",
       "\n",
       "    .dataframe tbody tr th {\n",
       "        vertical-align: top;\n",
       "    }\n",
       "\n",
       "    .dataframe thead th {\n",
       "        text-align: right;\n",
       "    }\n",
       "</style>\n",
       "<table border=\"1\" class=\"dataframe\">\n",
       "  <thead>\n",
       "    <tr style=\"text-align: right;\">\n",
       "      <th></th>\n",
       "      <th>user_id</th>\n",
       "      <th>timestamp</th>\n",
       "      <th>group</th>\n",
       "      <th>landing_page</th>\n",
       "      <th>converted</th>\n",
       "    </tr>\n",
       "  </thead>\n",
       "  <tbody>\n",
       "    <tr>\n",
       "      <th>0</th>\n",
       "      <td>851104</td>\n",
       "      <td>2017-01-21 22:11:48.556739</td>\n",
       "      <td>control</td>\n",
       "      <td>old_page</td>\n",
       "      <td>0</td>\n",
       "    </tr>\n",
       "    <tr>\n",
       "      <th>1</th>\n",
       "      <td>804228</td>\n",
       "      <td>2017-01-12 08:01:45.159739</td>\n",
       "      <td>control</td>\n",
       "      <td>old_page</td>\n",
       "      <td>0</td>\n",
       "    </tr>\n",
       "    <tr>\n",
       "      <th>2</th>\n",
       "      <td>661590</td>\n",
       "      <td>2017-01-11 16:55:06.154213</td>\n",
       "      <td>treatment</td>\n",
       "      <td>new_page</td>\n",
       "      <td>0</td>\n",
       "    </tr>\n",
       "    <tr>\n",
       "      <th>3</th>\n",
       "      <td>853541</td>\n",
       "      <td>2017-01-08 18:28:03.143765</td>\n",
       "      <td>treatment</td>\n",
       "      <td>new_page</td>\n",
       "      <td>0</td>\n",
       "    </tr>\n",
       "    <tr>\n",
       "      <th>4</th>\n",
       "      <td>864975</td>\n",
       "      <td>2017-01-21 01:52:26.210827</td>\n",
       "      <td>control</td>\n",
       "      <td>old_page</td>\n",
       "      <td>1</td>\n",
       "    </tr>\n",
       "    <tr>\n",
       "      <th>...</th>\n",
       "      <td>...</td>\n",
       "      <td>...</td>\n",
       "      <td>...</td>\n",
       "      <td>...</td>\n",
       "      <td>...</td>\n",
       "    </tr>\n",
       "    <tr>\n",
       "      <th>294473</th>\n",
       "      <td>751197</td>\n",
       "      <td>2017-01-03 22:28:38.630509</td>\n",
       "      <td>control</td>\n",
       "      <td>old_page</td>\n",
       "      <td>0</td>\n",
       "    </tr>\n",
       "    <tr>\n",
       "      <th>294474</th>\n",
       "      <td>945152</td>\n",
       "      <td>2017-01-12 00:51:57.078372</td>\n",
       "      <td>control</td>\n",
       "      <td>old_page</td>\n",
       "      <td>0</td>\n",
       "    </tr>\n",
       "    <tr>\n",
       "      <th>294475</th>\n",
       "      <td>734608</td>\n",
       "      <td>2017-01-22 11:45:03.439544</td>\n",
       "      <td>control</td>\n",
       "      <td>old_page</td>\n",
       "      <td>0</td>\n",
       "    </tr>\n",
       "    <tr>\n",
       "      <th>294476</th>\n",
       "      <td>697314</td>\n",
       "      <td>2017-01-15 01:20:28.957438</td>\n",
       "      <td>control</td>\n",
       "      <td>old_page</td>\n",
       "      <td>0</td>\n",
       "    </tr>\n",
       "    <tr>\n",
       "      <th>294477</th>\n",
       "      <td>715931</td>\n",
       "      <td>2017-01-16 12:40:24.467417</td>\n",
       "      <td>treatment</td>\n",
       "      <td>new_page</td>\n",
       "      <td>0</td>\n",
       "    </tr>\n",
       "  </tbody>\n",
       "</table>\n",
       "<p>290585 rows × 5 columns</p>\n",
       "</div>"
      ],
      "text/plain": [
       "        user_id                  timestamp      group landing_page  converted\n",
       "0        851104 2017-01-21 22:11:48.556739    control     old_page          0\n",
       "1        804228 2017-01-12 08:01:45.159739    control     old_page          0\n",
       "2        661590 2017-01-11 16:55:06.154213  treatment     new_page          0\n",
       "3        853541 2017-01-08 18:28:03.143765  treatment     new_page          0\n",
       "4        864975 2017-01-21 01:52:26.210827    control     old_page          1\n",
       "...         ...                        ...        ...          ...        ...\n",
       "294473   751197 2017-01-03 22:28:38.630509    control     old_page          0\n",
       "294474   945152 2017-01-12 00:51:57.078372    control     old_page          0\n",
       "294475   734608 2017-01-22 11:45:03.439544    control     old_page          0\n",
       "294476   697314 2017-01-15 01:20:28.957438    control     old_page          0\n",
       "294477   715931 2017-01-16 12:40:24.467417  treatment     new_page          0\n",
       "\n",
       "[290585 rows x 5 columns]"
      ]
     },
     "execution_count": 9,
     "metadata": {},
     "output_type": "execute_result"
    }
   ],
   "source": [
    "# removing the rows where each group dont't align with their landing page\n",
    "df2 = df.drop(index=df1.index)\n",
    "df2"
   ]
  },
  {
   "cell_type": "code",
   "execution_count": 10,
   "id": "84aef335",
   "metadata": {},
   "outputs": [
    {
     "data": {
      "text/plain": [
       "0"
      ]
     },
     "execution_count": 10,
     "metadata": {},
     "output_type": "execute_result"
    }
   ],
   "source": [
    "# Double Check all of the correct rows were removed - this should be 0\n",
    "df2[((df2['group'] == 'treatment') == (df2['landing_page'] == 'new_page')) == False].shape[0]"
   ]
  },
  {
   "cell_type": "code",
   "execution_count": 11,
   "id": "55b18709",
   "metadata": {},
   "outputs": [
    {
     "data": {
      "text/plain": [
       "290584"
      ]
     },
     "execution_count": 11,
     "metadata": {},
     "output_type": "execute_result"
    }
   ],
   "source": [
    "# number of unique user_ids are in df2\n",
    "len(df2.user_id.unique())"
   ]
  },
  {
   "cell_type": "code",
   "execution_count": 12,
   "id": "cdd2e50f",
   "metadata": {},
   "outputs": [
    {
     "data": {
      "text/html": [
       "<div>\n",
       "<style scoped>\n",
       "    .dataframe tbody tr th:only-of-type {\n",
       "        vertical-align: middle;\n",
       "    }\n",
       "\n",
       "    .dataframe tbody tr th {\n",
       "        vertical-align: top;\n",
       "    }\n",
       "\n",
       "    .dataframe thead th {\n",
       "        text-align: right;\n",
       "    }\n",
       "</style>\n",
       "<table border=\"1\" class=\"dataframe\">\n",
       "  <thead>\n",
       "    <tr style=\"text-align: right;\">\n",
       "      <th></th>\n",
       "      <th>user_id</th>\n",
       "      <th>timestamp</th>\n",
       "      <th>group</th>\n",
       "      <th>landing_page</th>\n",
       "      <th>converted</th>\n",
       "    </tr>\n",
       "  </thead>\n",
       "  <tbody>\n",
       "    <tr>\n",
       "      <th>1899</th>\n",
       "      <td>773192</td>\n",
       "      <td>2017-01-09 05:37:58.781806</td>\n",
       "      <td>treatment</td>\n",
       "      <td>new_page</td>\n",
       "      <td>0</td>\n",
       "    </tr>\n",
       "    <tr>\n",
       "      <th>2893</th>\n",
       "      <td>773192</td>\n",
       "      <td>2017-01-14 02:55:59.590927</td>\n",
       "      <td>treatment</td>\n",
       "      <td>new_page</td>\n",
       "      <td>0</td>\n",
       "    </tr>\n",
       "  </tbody>\n",
       "</table>\n",
       "</div>"
      ],
      "text/plain": [
       "      user_id                  timestamp      group landing_page  converted\n",
       "1899   773192 2017-01-09 05:37:58.781806  treatment     new_page          0\n",
       "2893   773192 2017-01-14 02:55:59.590927  treatment     new_page          0"
      ]
     },
     "execution_count": 12,
     "metadata": {},
     "output_type": "execute_result"
    }
   ],
   "source": [
    "# checking for duplicates\n",
    "df2[df2['user_id'].duplicated(keep=False)]"
   ]
  },
  {
   "cell_type": "code",
   "execution_count": 13,
   "id": "01016b22",
   "metadata": {},
   "outputs": [],
   "source": [
    "# removing one of the dulicates\n",
    "df2.drop_duplicates('user_id', inplace=True)"
   ]
  },
  {
   "cell_type": "markdown",
   "id": "d6875292",
   "metadata": {},
   "source": [
    "<a id='probability'></a>\n",
    "### Part I - Probability"
   ]
  },
  {
   "cell_type": "code",
   "execution_count": 14,
   "id": "c6f91016",
   "metadata": {},
   "outputs": [
    {
     "data": {
      "text/plain": [
       "0.11959708724499628"
      ]
     },
     "execution_count": 14,
     "metadata": {},
     "output_type": "execute_result"
    }
   ],
   "source": [
    "# the probability of an individual converting regardless of the page they receive after cleaning the dataset\n",
    "p_converted = df2[df2['converted'] == 1]['converted'].count() / df2['converted'].count()\n",
    "p_converted"
   ]
  },
  {
   "cell_type": "code",
   "execution_count": 15,
   "id": "2665722c",
   "metadata": {},
   "outputs": [
    {
     "data": {
      "text/plain": [
       "0.1203863045004612"
      ]
     },
     "execution_count": 15,
     "metadata": {},
     "output_type": "execute_result"
    }
   ],
   "source": [
    "# the probability of an individual converting given he landed in the control group\n",
    "p_control_converted = df2[(df2['converted'] == 1) & (df2['group'] == 'control')]['converted'].count() / df2[df2['group'] == 'control']['group'].count()\n",
    "p_control_converted"
   ]
  },
  {
   "cell_type": "code",
   "execution_count": 16,
   "id": "72f9f462",
   "metadata": {},
   "outputs": [
    {
     "data": {
      "text/plain": [
       "0.11880806551510564"
      ]
     },
     "execution_count": 16,
     "metadata": {},
     "output_type": "execute_result"
    }
   ],
   "source": [
    "# the probability of an individual converting given he landed in the experiment group\n",
    "p_treat_converted = df2[(df2['converted'] == 1) & (df2['group'] == 'treatment')]['converted'].count() / df2[df2['group'] == 'treatment']['group'].count()\n",
    "p_treat_converted"
   ]
  },
  {
   "cell_type": "code",
   "execution_count": 17,
   "id": "7a54abfd",
   "metadata": {},
   "outputs": [
    {
     "data": {
      "text/plain": [
       "0.5000619442226688"
      ]
     },
     "execution_count": 17,
     "metadata": {},
     "output_type": "execute_result"
    }
   ],
   "source": [
    "#  the probability that an individual received the new page\n",
    "p_newpage = df2[df2['landing_page'] == 'new_page']['landing_page'].count() / df2['landing_page'].count()\n",
    "p_newpage"
   ]
  },
  {
   "cell_type": "code",
   "execution_count": 18,
   "id": "5f9d8029",
   "metadata": {},
   "outputs": [],
   "source": [
    "# calculating the actual difference observed in the dataset\n",
    "obs_diff = p_treat_converted - p_control_converted"
   ]
  },
  {
   "cell_type": "markdown",
   "id": "9e67afa6",
   "metadata": {},
   "source": [
    "**Probability Conclusion**\n",
    "\n",
    "- from the probability that an individual received the new page =0.5 we see that both groups had the same sample size.\n",
    "- \"p_control_converted\" = 0.1204 -- and -- \"p_treatment_converted\" = 0.1188\n",
    "- The propapility that an individual from the control group converted is almost equal to the propapility that an individual from the treatment group converted.\n",
    "- thats is not a sufficient evidence to say that the new treatment page leads to more conversions\n",
    "- rather it even did less conversions."
   ]
  },
  {
   "cell_type": "markdown",
   "id": "c9ff96ae",
   "metadata": {},
   "source": [
    "<a id='ab_test'></a>\n",
    "### Part II - A/B Test"
   ]
  },
  {
   "cell_type": "markdown",
   "id": "337991a1",
   "metadata": {},
   "source": [
    "we assume that the old page is better unless the new page proves to be definitely better at a Type I error rate of 5%.\n",
    "\n",
    "$$H_0: p_{new} - p_{old} <= 0$$\n",
    "\n",
    "\n",
    "$$H_1: p_{new} - p_{old} > 0$$\n",
    "\n",
    "where **$p_{old}$** and **$p_{new}$** are the converted rates for the old and new pages."
   ]
  },
  {
   "cell_type": "markdown",
   "id": "ed51064f",
   "metadata": {},
   "source": [
    "### note:\n",
    "Assuming under the null hypothesis, $p_{new}$ and $p_{old}$ both have \"true\" success rates equal to the **converted** success rate regardless of page - that is $p_{new}$ and $p_{old}$ are equal. Furthermore, assuming they are equal to the **converted** rate in **ab_data.csv** regardless of the page. <br><br>"
   ]
  },
  {
   "cell_type": "markdown",
   "id": "0d5c7d18",
   "metadata": {},
   "source": [
    "### calcualting how long has the experiment been running for"
   ]
  },
  {
   "cell_type": "code",
   "execution_count": 19,
   "id": "80182ffa",
   "metadata": {},
   "outputs": [],
   "source": [
    "from datetime import timedelta"
   ]
  },
  {
   "cell_type": "code",
   "execution_count": 20,
   "id": "8ca1cdd4",
   "metadata": {},
   "outputs": [],
   "source": [
    "# sorting the data by timestamp so we can track the experiment progress\n",
    "df2.sort_values(by='timestamp', ascending=True, inplace=True)"
   ]
  },
  {
   "cell_type": "code",
   "execution_count": 21,
   "id": "31e4bde8",
   "metadata": {},
   "outputs": [
    {
     "data": {
      "text/plain": [
       "Timedelta('21 days 23:59:49.081927')"
      ]
     },
     "execution_count": 21,
     "metadata": {},
     "output_type": "execute_result"
    }
   ],
   "source": [
    "df2['timestamp'].max() - df2['timestamp'].min()"
   ]
  },
  {
   "cell_type": "markdown",
   "id": "7b1741bd",
   "metadata": {},
   "source": [
    "### the experiment has been running for 3 weeks\n",
    "as we don't know for how long we should run the experiment to get the results we need, we can avoid that by running the test multiple times on different time intervals, tracking results progress and making an assumption out of it."
   ]
  },
  {
   "cell_type": "markdown",
   "id": "c788fae4",
   "metadata": {},
   "source": [
    "### calculating the results after one week"
   ]
  },
  {
   "cell_type": "code",
   "execution_count": 22,
   "id": "2cc58afd",
   "metadata": {},
   "outputs": [],
   "source": [
    "week1_prior =  df2['timestamp'].min() + timedelta(weeks=1)"
   ]
  },
  {
   "cell_type": "code",
   "execution_count": 23,
   "id": "aae06451",
   "metadata": {},
   "outputs": [],
   "source": [
    "# extracting the data of the first week\n",
    "week1_df = df2[df2['timestamp'] <= week1_prior]"
   ]
  },
  {
   "cell_type": "code",
   "execution_count": 24,
   "id": "d3c9351d",
   "metadata": {},
   "outputs": [
    {
     "data": {
      "text/html": [
       "<div>\n",
       "<style scoped>\n",
       "    .dataframe tbody tr th:only-of-type {\n",
       "        vertical-align: middle;\n",
       "    }\n",
       "\n",
       "    .dataframe tbody tr th {\n",
       "        vertical-align: top;\n",
       "    }\n",
       "\n",
       "    .dataframe thead th {\n",
       "        text-align: right;\n",
       "    }\n",
       "</style>\n",
       "<table border=\"1\" class=\"dataframe\">\n",
       "  <thead>\n",
       "    <tr style=\"text-align: right;\">\n",
       "      <th></th>\n",
       "      <th>user_id</th>\n",
       "      <th>timestamp</th>\n",
       "      <th>group</th>\n",
       "      <th>landing_page</th>\n",
       "      <th>converted</th>\n",
       "    </tr>\n",
       "  </thead>\n",
       "  <tbody>\n",
       "    <tr>\n",
       "      <th>131228</th>\n",
       "      <td>922696</td>\n",
       "      <td>2017-01-02 13:42:05.378582</td>\n",
       "      <td>treatment</td>\n",
       "      <td>new_page</td>\n",
       "      <td>0</td>\n",
       "    </tr>\n",
       "    <tr>\n",
       "      <th>184884</th>\n",
       "      <td>781507</td>\n",
       "      <td>2017-01-02 13:42:15.234051</td>\n",
       "      <td>control</td>\n",
       "      <td>old_page</td>\n",
       "      <td>0</td>\n",
       "    </tr>\n",
       "    <tr>\n",
       "      <th>83878</th>\n",
       "      <td>737319</td>\n",
       "      <td>2017-01-02 13:42:21.786186</td>\n",
       "      <td>control</td>\n",
       "      <td>old_page</td>\n",
       "      <td>0</td>\n",
       "    </tr>\n",
       "    <tr>\n",
       "      <th>102717</th>\n",
       "      <td>818377</td>\n",
       "      <td>2017-01-02 13:42:26.640581</td>\n",
       "      <td>treatment</td>\n",
       "      <td>new_page</td>\n",
       "      <td>0</td>\n",
       "    </tr>\n",
       "    <tr>\n",
       "      <th>158789</th>\n",
       "      <td>725857</td>\n",
       "      <td>2017-01-02 13:42:27.851110</td>\n",
       "      <td>treatment</td>\n",
       "      <td>new_page</td>\n",
       "      <td>0</td>\n",
       "    </tr>\n",
       "    <tr>\n",
       "      <th>...</th>\n",
       "      <td>...</td>\n",
       "      <td>...</td>\n",
       "      <td>...</td>\n",
       "      <td>...</td>\n",
       "      <td>...</td>\n",
       "    </tr>\n",
       "    <tr>\n",
       "      <th>171876</th>\n",
       "      <td>933416</td>\n",
       "      <td>2017-01-09 13:41:16.908743</td>\n",
       "      <td>treatment</td>\n",
       "      <td>new_page</td>\n",
       "      <td>0</td>\n",
       "    </tr>\n",
       "    <tr>\n",
       "      <th>171200</th>\n",
       "      <td>701777</td>\n",
       "      <td>2017-01-09 13:41:31.452585</td>\n",
       "      <td>treatment</td>\n",
       "      <td>new_page</td>\n",
       "      <td>0</td>\n",
       "    </tr>\n",
       "    <tr>\n",
       "      <th>80645</th>\n",
       "      <td>881251</td>\n",
       "      <td>2017-01-09 13:41:36.327582</td>\n",
       "      <td>control</td>\n",
       "      <td>old_page</td>\n",
       "      <td>0</td>\n",
       "    </tr>\n",
       "    <tr>\n",
       "      <th>236217</th>\n",
       "      <td>744985</td>\n",
       "      <td>2017-01-09 13:41:46.526450</td>\n",
       "      <td>treatment</td>\n",
       "      <td>new_page</td>\n",
       "      <td>0</td>\n",
       "    </tr>\n",
       "    <tr>\n",
       "      <th>129840</th>\n",
       "      <td>761092</td>\n",
       "      <td>2017-01-09 13:41:58.146468</td>\n",
       "      <td>treatment</td>\n",
       "      <td>new_page</td>\n",
       "      <td>0</td>\n",
       "    </tr>\n",
       "  </tbody>\n",
       "</table>\n",
       "<p>92446 rows × 5 columns</p>\n",
       "</div>"
      ],
      "text/plain": [
       "        user_id                  timestamp      group landing_page  converted\n",
       "131228   922696 2017-01-02 13:42:05.378582  treatment     new_page          0\n",
       "184884   781507 2017-01-02 13:42:15.234051    control     old_page          0\n",
       "83878    737319 2017-01-02 13:42:21.786186    control     old_page          0\n",
       "102717   818377 2017-01-02 13:42:26.640581  treatment     new_page          0\n",
       "158789   725857 2017-01-02 13:42:27.851110  treatment     new_page          0\n",
       "...         ...                        ...        ...          ...        ...\n",
       "171876   933416 2017-01-09 13:41:16.908743  treatment     new_page          0\n",
       "171200   701777 2017-01-09 13:41:31.452585  treatment     new_page          0\n",
       "80645    881251 2017-01-09 13:41:36.327582    control     old_page          0\n",
       "236217   744985 2017-01-09 13:41:46.526450  treatment     new_page          0\n",
       "129840   761092 2017-01-09 13:41:58.146468  treatment     new_page          0\n",
       "\n",
       "[92446 rows x 5 columns]"
      ]
     },
     "execution_count": 24,
     "metadata": {},
     "output_type": "execute_result"
    }
   ],
   "source": [
    "week1_df"
   ]
  },
  {
   "cell_type": "code",
   "execution_count": 25,
   "id": "23caf117",
   "metadata": {},
   "outputs": [
    {
     "data": {
      "text/plain": [
       "0.11850161175172533"
      ]
     },
     "execution_count": 25,
     "metadata": {},
     "output_type": "execute_result"
    }
   ],
   "source": [
    "# the convert rate for 𝑝_𝑛𝑒𝑤 page and 𝑝_old page under the null\n",
    "p_converted_week1 = week1_df[week1_df['converted'] == 1]['converted'].count() / week1_df['converted'].count()\n",
    "p_converted_week1"
   ]
  },
  {
   "cell_type": "code",
   "execution_count": 26,
   "id": "e5b0c10e",
   "metadata": {},
   "outputs": [
    {
     "data": {
      "text/plain": [
       "(0.1193644316134494, 0.11764452206912909)"
      ]
     },
     "execution_count": 26,
     "metadata": {},
     "output_type": "execute_result"
    }
   ],
   "source": [
    "# the convert rate for 𝑝_𝑛𝑒𝑤 page and 𝑝_old page\n",
    "p_control_w1 = week1_df[(week1_df['converted'] == 1) & (week1_df['group'] == 'control')]['converted'].count() / week1_df[week1_df['group'] == 'control']['group'].count()\n",
    "p_treatment_w1 = week1_df[(week1_df['converted'] == 1) & (week1_df['group'] == 'treatment')]['converted'].count() / week1_df[week1_df['group'] == 'treatment']['group'].count()\n",
    "p_control_w1, p_treatment_w1"
   ]
  },
  {
   "cell_type": "code",
   "execution_count": 27,
   "id": "2abaf05a",
   "metadata": {},
   "outputs": [
    {
     "data": {
      "text/plain": [
       "-0.0017199095443203027"
      ]
     },
     "execution_count": 27,
     "metadata": {},
     "output_type": "execute_result"
    }
   ],
   "source": [
    "# calculating the actual difference observed in the one week dataset\n",
    "obs_diff_week1 = p_treatment_w1 - p_control_w1\n",
    "obs_diff_week1"
   ]
  },
  {
   "cell_type": "code",
   "execution_count": 28,
   "id": "61f1849a",
   "metadata": {},
   "outputs": [
    {
     "data": {
      "text/plain": [
       "46377"
      ]
     },
     "execution_count": 28,
     "metadata": {},
     "output_type": "execute_result"
    }
   ],
   "source": [
    "# the number of individuals in the treatment group\n",
    "𝑛_𝑛𝑒𝑤_w1 = week1_df[week1_df['group'] == 'treatment'].shape[0]\n",
    "n_new_w1"
   ]
  },
  {
   "cell_type": "code",
   "execution_count": 29,
   "id": "4017faad",
   "metadata": {},
   "outputs": [
    {
     "data": {
      "text/plain": [
       "46069"
      ]
     },
     "execution_count": 29,
     "metadata": {},
     "output_type": "execute_result"
    }
   ],
   "source": [
    "# the number of individuals in the control group\n",
    "n_old_w1 = week1_df[week1_df['group'] == 'control'].shape[0]\n",
    "n_old_w1"
   ]
  },
  {
   "cell_type": "code",
   "execution_count": 30,
   "id": "f56ddb68",
   "metadata": {},
   "outputs": [],
   "source": [
    "# Simulate 10,000 𝑛_𝑛𝑒𝑤 and 𝑛_old transactions with a convert rate of 𝑝_𝑛𝑒𝑤 and 𝑝_old under the null\n",
    "p_diffs_week1 = []\n",
    "for _ in range(10000):\n",
    "    new_page_converted_w1 = np.random.choice([1, 0], size=n_new_w1, p=[p_converted_week1, 1-p_converted_week1])\n",
    "    old_page_converted_w1 = np.random.choice([1, 0], size=n_old_w1, p=[p_converted_week1, 1-p_converted_week1])\n",
    "    p_new_w1 = new_page_converted_w1.mean()\n",
    "    p_old_w1 = old_page_converted_w1.mean()\n",
    "    p_diffs_week1.append(p_new_w1 - p_old_w1)\n",
    "    \n",
    "p_diffs_week1 = np.array(p_diffs_week1)"
   ]
  },
  {
   "cell_type": "code",
   "execution_count": 31,
   "id": "24754297",
   "metadata": {},
   "outputs": [
    {
     "data": {
      "image/png": "[encoded data removed]",
      "text/plain": [
       "<Figure size 432x288 with 1 Axes>"
      ]
     },
     "metadata": {
      "needs_background": "light"
     },
     "output_type": "display_data"
    }
   ],
   "source": [
    "# Plotting a histogram of the p_diffs\n",
    "plt.hist(p_diffs_week1);\n",
    "plt.axvline(obs_diff_week1, c='red');"
   ]
  },
  {
   "cell_type": "code",
   "execution_count": 32,
   "id": "23841f5a",
   "metadata": {},
   "outputs": [
    {
     "data": {
      "text/plain": [
       "0.7891"
      ]
     },
     "execution_count": 32,
     "metadata": {},
     "output_type": "execute_result"
    }
   ],
   "source": [
    "# calculating the P_value\n",
    "# (the proportion of the p_diffs that are greater than the actual difference observed in the dateset)\n",
    "(p_diffs_week1 > obs_diff_week1).mean()"
   ]
  },
  {
   "cell_type": "markdown",
   "id": "27279332",
   "metadata": {},
   "source": [
    "### calculating the results after two weeks"
   ]
  },
  {
   "cell_type": "code",
   "execution_count": 33,
   "id": "6b9ffdcd",
   "metadata": {},
   "outputs": [],
   "source": [
    "week2_prior =  df2['timestamp'].min() + timedelta(weeks=2)"
   ]
  },
  {
   "cell_type": "code",
   "execution_count": 34,
   "id": "5de0fbf4",
   "metadata": {},
   "outputs": [],
   "source": [
    "week2_df = df2[df2['timestamp'] <= week2_prior]"
   ]
  },
  {
   "cell_type": "code",
   "execution_count": 35,
   "id": "19310800",
   "metadata": {},
   "outputs": [
    {
     "data": {
      "text/html": [
       "<div>\n",
       "<style scoped>\n",
       "    .dataframe tbody tr th:only-of-type {\n",
       "        vertical-align: middle;\n",
       "    }\n",
       "\n",
       "    .dataframe tbody tr th {\n",
       "        vertical-align: top;\n",
       "    }\n",
       "\n",
       "    .dataframe thead th {\n",
       "        text-align: right;\n",
       "    }\n",
       "</style>\n",
       "<table border=\"1\" class=\"dataframe\">\n",
       "  <thead>\n",
       "    <tr style=\"text-align: right;\">\n",
       "      <th></th>\n",
       "      <th>user_id</th>\n",
       "      <th>timestamp</th>\n",
       "      <th>group</th>\n",
       "      <th>landing_page</th>\n",
       "      <th>converted</th>\n",
       "    </tr>\n",
       "  </thead>\n",
       "  <tbody>\n",
       "    <tr>\n",
       "      <th>131228</th>\n",
       "      <td>922696</td>\n",
       "      <td>2017-01-02 13:42:05.378582</td>\n",
       "      <td>treatment</td>\n",
       "      <td>new_page</td>\n",
       "      <td>0</td>\n",
       "    </tr>\n",
       "    <tr>\n",
       "      <th>184884</th>\n",
       "      <td>781507</td>\n",
       "      <td>2017-01-02 13:42:15.234051</td>\n",
       "      <td>control</td>\n",
       "      <td>old_page</td>\n",
       "      <td>0</td>\n",
       "    </tr>\n",
       "    <tr>\n",
       "      <th>83878</th>\n",
       "      <td>737319</td>\n",
       "      <td>2017-01-02 13:42:21.786186</td>\n",
       "      <td>control</td>\n",
       "      <td>old_page</td>\n",
       "      <td>0</td>\n",
       "    </tr>\n",
       "    <tr>\n",
       "      <th>102717</th>\n",
       "      <td>818377</td>\n",
       "      <td>2017-01-02 13:42:26.640581</td>\n",
       "      <td>treatment</td>\n",
       "      <td>new_page</td>\n",
       "      <td>0</td>\n",
       "    </tr>\n",
       "    <tr>\n",
       "      <th>158789</th>\n",
       "      <td>725857</td>\n",
       "      <td>2017-01-02 13:42:27.851110</td>\n",
       "      <td>treatment</td>\n",
       "      <td>new_page</td>\n",
       "      <td>0</td>\n",
       "    </tr>\n",
       "    <tr>\n",
       "      <th>...</th>\n",
       "      <td>...</td>\n",
       "      <td>...</td>\n",
       "      <td>...</td>\n",
       "      <td>...</td>\n",
       "      <td>...</td>\n",
       "    </tr>\n",
       "    <tr>\n",
       "      <th>287237</th>\n",
       "      <td>643009</td>\n",
       "      <td>2017-01-16 13:41:48.089358</td>\n",
       "      <td>treatment</td>\n",
       "      <td>new_page</td>\n",
       "      <td>0</td>\n",
       "    </tr>\n",
       "    <tr>\n",
       "      <th>277357</th>\n",
       "      <td>711687</td>\n",
       "      <td>2017-01-16 13:41:57.235549</td>\n",
       "      <td>treatment</td>\n",
       "      <td>new_page</td>\n",
       "      <td>0</td>\n",
       "    </tr>\n",
       "    <tr>\n",
       "      <th>75739</th>\n",
       "      <td>925779</td>\n",
       "      <td>2017-01-16 13:41:58.527776</td>\n",
       "      <td>control</td>\n",
       "      <td>old_page</td>\n",
       "      <td>0</td>\n",
       "    </tr>\n",
       "    <tr>\n",
       "      <th>145943</th>\n",
       "      <td>906797</td>\n",
       "      <td>2017-01-16 13:42:02.541521</td>\n",
       "      <td>treatment</td>\n",
       "      <td>new_page</td>\n",
       "      <td>0</td>\n",
       "    </tr>\n",
       "    <tr>\n",
       "      <th>64249</th>\n",
       "      <td>919403</td>\n",
       "      <td>2017-01-16 13:42:04.582962</td>\n",
       "      <td>treatment</td>\n",
       "      <td>new_page</td>\n",
       "      <td>0</td>\n",
       "    </tr>\n",
       "  </tbody>\n",
       "</table>\n",
       "<p>185001 rows × 5 columns</p>\n",
       "</div>"
      ],
      "text/plain": [
       "        user_id                  timestamp      group landing_page  converted\n",
       "131228   922696 2017-01-02 13:42:05.378582  treatment     new_page          0\n",
       "184884   781507 2017-01-02 13:42:15.234051    control     old_page          0\n",
       "83878    737319 2017-01-02 13:42:21.786186    control     old_page          0\n",
       "102717   818377 2017-01-02 13:42:26.640581  treatment     new_page          0\n",
       "158789   725857 2017-01-02 13:42:27.851110  treatment     new_page          0\n",
       "...         ...                        ...        ...          ...        ...\n",
       "287237   643009 2017-01-16 13:41:48.089358  treatment     new_page          0\n",
       "277357   711687 2017-01-16 13:41:57.235549  treatment     new_page          0\n",
       "75739    925779 2017-01-16 13:41:58.527776    control     old_page          0\n",
       "145943   906797 2017-01-16 13:42:02.541521  treatment     new_page          0\n",
       "64249    919403 2017-01-16 13:42:04.582962  treatment     new_page          0\n",
       "\n",
       "[185001 rows x 5 columns]"
      ]
     },
     "execution_count": 35,
     "metadata": {},
     "output_type": "execute_result"
    }
   ],
   "source": [
    "week2_df"
   ]
  },
  {
   "cell_type": "code",
   "execution_count": 36,
   "id": "64057139",
   "metadata": {},
   "outputs": [
    {
     "data": {
      "text/plain": [
       "0.1185993589223842"
      ]
     },
     "execution_count": 36,
     "metadata": {},
     "output_type": "execute_result"
    }
   ],
   "source": [
    "# the convert rate for 𝑝_𝑛𝑒𝑤 page and 𝑝_old page under the null\n",
    "p_converted_week2 = week2_df[week2_df['converted'] == 1]['converted'].count() / week2_df['converted'].count()\n",
    "p_converted_week2"
   ]
  },
  {
   "cell_type": "code",
   "execution_count": 37,
   "id": "6c7815cb",
   "metadata": {},
   "outputs": [
    {
     "data": {
      "text/plain": [
       "(0.1194472399874471, 0.11775315362018317)"
      ]
     },
     "execution_count": 37,
     "metadata": {},
     "output_type": "execute_result"
    }
   ],
   "source": [
    "# the convert rate for 𝑝_𝑛𝑒𝑤 page and 𝑝_old page\n",
    "p_control_w2 = week2_df[(week2_df['converted'] == 1) & (week2_df['group'] == 'control')]['converted'].count() / week2_df[week2_df['group'] == 'control']['group'].count()\n",
    "p_treatment_w2 = week2_df[(week2_df['converted'] == 1) & (week2_df['group'] == 'treatment')]['converted'].count() / week2_df[week2_df['group'] == 'treatment']['group'].count()\n",
    "p_control_w2, p_treatment_w2"
   ]
  },
  {
   "cell_type": "code",
   "execution_count": 38,
   "id": "6a37c56d",
   "metadata": {},
   "outputs": [
    {
     "data": {
      "text/plain": [
       "-0.001694086367263939"
      ]
     },
     "execution_count": 38,
     "metadata": {},
     "output_type": "execute_result"
    }
   ],
   "source": [
    "# calculating the actual difference observed in the two week dataset\n",
    "obs_diff_week2 = p_treatment_w2 - p_control_w2\n",
    "obs_diff_week2"
   ]
  },
  {
   "cell_type": "code",
   "execution_count": 39,
   "id": "9444003b",
   "metadata": {},
   "outputs": [
    {
     "data": {
      "text/plain": [
       "92592"
      ]
     },
     "execution_count": 39,
     "metadata": {},
     "output_type": "execute_result"
    }
   ],
   "source": [
    "# the number of individuals in the treatment group\n",
    "𝑛_𝑛𝑒𝑤_w2 = week2_df[week2_df['group'] == 'treatment'].shape[0]\n",
    "n_new_w2"
   ]
  },
  {
   "cell_type": "code",
   "execution_count": 40,
   "id": "0fd936ab",
   "metadata": {},
   "outputs": [
    {
     "data": {
      "text/plain": [
       "92409"
      ]
     },
     "execution_count": 40,
     "metadata": {},
     "output_type": "execute_result"
    }
   ],
   "source": [
    "# the number of individuals in the control group\n",
    "n_old_w2 = week2_df[week2_df['group'] == 'control'].shape[0]\n",
    "n_old_w2"
   ]
  },
  {
   "cell_type": "code",
   "execution_count": 41,
   "id": "1f941e43",
   "metadata": {},
   "outputs": [],
   "source": [
    "# Simulate 10,000 𝑛_𝑛𝑒𝑤 and 𝑛_old transactions with a convert rate of 𝑝_𝑛𝑒𝑤 and 𝑝_old under the null\n",
    "p_diffs_week2 = []\n",
    "for _ in range(10000):\n",
    "    new_page_converted_w2 = np.random.choice([1, 0], size=n_new_w2, p=[p_converted_week2, 1-p_converted_week2])\n",
    "    old_page_converted_w2 = np.random.choice([1, 0], size=n_old_w2, p=[p_converted_week2, 1-p_converted_week2])\n",
    "    p_new_w2 = new_page_converted_w2.mean()\n",
    "    p_old_w2 = old_page_converted_w2.mean()\n",
    "    p_diffs_week2.append(p_new_w2 - p_old_w2)\n",
    "    \n",
    "p_diffs_week2 = np.array(p_diffs_week2)"
   ]
  },
  {
   "cell_type": "code",
   "execution_count": 42,
   "id": "045f765c",
   "metadata": {},
   "outputs": [
    {
     "data": {
      "image/png": "[encoded data removed]",
      "text/plain": [
       "<Figure size 432x288 with 1 Axes>"
      ]
     },
     "metadata": {
      "needs_background": "light"
     },
     "output_type": "display_data"
    }
   ],
   "source": [
    "# Plotting a histogram of the p_diffs\n",
    "plt.hist(p_diffs_week2);\n",
    "plt.axvline(obs_diff_week2, c='red');"
   ]
  },
  {
   "cell_type": "code",
   "execution_count": 43,
   "id": "33bc5b09",
   "metadata": {},
   "outputs": [
    {
     "data": {
      "text/plain": [
       "0.8684"
      ]
     },
     "execution_count": 43,
     "metadata": {},
     "output_type": "execute_result"
    }
   ],
   "source": [
    "# calculating the P_value\n",
    "# (the proportion of the p_diffs that are greater than the actual difference observed in the dateset)\n",
    "(p_diffs_week2 > obs_diff_week2).mean()"
   ]
  },
  {
   "cell_type": "markdown",
   "id": "b4ca0171",
   "metadata": {},
   "source": [
    "### calculating the results after the experiment has ended"
   ]
  },
  {
   "cell_type": "code",
   "execution_count": 44,
   "id": "272e3552",
   "metadata": {},
   "outputs": [
    {
     "data": {
      "text/plain": [
       "0.11959708724499628"
      ]
     },
     "execution_count": 44,
     "metadata": {},
     "output_type": "execute_result"
    }
   ],
   "source": [
    "# the convert rate for 𝑝_𝑛𝑒𝑤 page under the null\n",
    "p_new = df2[df2['converted'] == 1]['converted'].count() / df2['converted'].count()\n",
    "p_new"
   ]
  },
  {
   "cell_type": "code",
   "execution_count": 45,
   "id": "e8442ac1",
   "metadata": {},
   "outputs": [
    {
     "data": {
      "text/plain": [
       "0.11959708724499628"
      ]
     },
     "execution_count": 45,
     "metadata": {},
     "output_type": "execute_result"
    }
   ],
   "source": [
    "# the convert rate for 𝑝_old page under the null\n",
    "p_old = df2[df2['converted'] == 1]['converted'].count() / df2['converted'].count()\n",
    "p_old"
   ]
  },
  {
   "cell_type": "code",
   "execution_count": 46,
   "id": "af7ccc26",
   "metadata": {},
   "outputs": [
    {
     "data": {
      "text/plain": [
       "145310"
      ]
     },
     "execution_count": 46,
     "metadata": {},
     "output_type": "execute_result"
    }
   ],
   "source": [
    "# the number of individuals in the treatment group\n",
    "𝑛_𝑛𝑒𝑤 = df2[df2['group'] == 'treatment'].shape[0]\n",
    "n_new"
   ]
  },
  {
   "cell_type": "code",
   "execution_count": 47,
   "id": "573ec85d",
   "metadata": {},
   "outputs": [
    {
     "data": {
      "text/plain": [
       "145274"
      ]
     },
     "execution_count": 47,
     "metadata": {},
     "output_type": "execute_result"
    }
   ],
   "source": [
    "# the number of individuals in the control group\n",
    "n_old = df2[df2['group'] == 'control'].shape[0]\n",
    "n_old"
   ]
  },
  {
   "cell_type": "code",
   "execution_count": 48,
   "id": "631faf4e",
   "metadata": {},
   "outputs": [
    {
     "data": {
      "text/plain": [
       "0.11966141352969513"
      ]
     },
     "execution_count": 48,
     "metadata": {},
     "output_type": "execute_result"
    }
   ],
   "source": [
    "# Simulating 𝑛_𝑛𝑒𝑤 transactions with a convert rate of 𝑝_𝑛𝑒𝑤 under the null\n",
    "new_page_converted = np.random.choice([1, 0], size=n_new, p=[p_new, 1-p_new])\n",
    "new_page_p = new_page_converted.mean()\n",
    "new_page_p"
   ]
  },
  {
   "cell_type": "code",
   "execution_count": 49,
   "id": "ed27966f",
   "metadata": {},
   "outputs": [
    {
     "data": {
      "text/plain": [
       "0.11760535264396933"
      ]
     },
     "execution_count": 49,
     "metadata": {},
     "output_type": "execute_result"
    }
   ],
   "source": [
    "# Simulating 𝑛_old transactions with a convert rate of 𝑝_old under the null\n",
    "old_page_converted = np.random.choice([1, 0], size=n_old, p=[p_old, 1-p_old])\n",
    "old_page_p = old_page_converted.mean()\n",
    "old_page_p"
   ]
  },
  {
   "cell_type": "code",
   "execution_count": 50,
   "id": "75b58210",
   "metadata": {},
   "outputs": [
    {
     "data": {
      "text/plain": [
       "0.0"
      ]
     },
     "execution_count": 50,
     "metadata": {},
     "output_type": "execute_result"
    }
   ],
   "source": [
    "# calculating the difference observed in the sample\n",
    "p_new - p_old"
   ]
  },
  {
   "cell_type": "code",
   "execution_count": 51,
   "id": "ee07b7bb",
   "metadata": {},
   "outputs": [],
   "source": [
    "# Simulate 10,000 𝑝_𝑛𝑒𝑤 - 𝑝_𝑜𝑙𝑑 values using the same process\n",
    "p_diffs = []\n",
    "for _ in range(10000):\n",
    "    new_page_converted_1 = np.random.choice([1, 0], size=n_new, p=[p_new, 1-p_new])\n",
    "    old_page_converted_1 = np.random.choice([1, 0], size=n_old, p=[p_old, 1-p_old])\n",
    "    p_new_1 = new_page_converted_1.mean()\n",
    "    p_old_1 = old_page_converted_1.mean()\n",
    "    p_diffs.append(p_new_1 - p_old_1)\n",
    "    \n",
    "p_diffs = np.array(p_diffs)"
   ]
  },
  {
   "cell_type": "code",
   "execution_count": 52,
   "id": "5dfa49ea",
   "metadata": {},
   "outputs": [
    {
     "data": {
      "image/png": "[encoded data removed]",
      "text/plain": [
       "<Figure size 432x288 with 1 Axes>"
      ]
     },
     "metadata": {
      "needs_background": "light"
     },
     "output_type": "display_data"
    }
   ],
   "source": [
    "# Plotting a histogram of the p_diffs\n",
    "plt.hist(p_diffs);\n",
    "plt.axvline(obs_diff, c='red');"
   ]
  },
  {
   "cell_type": "code",
   "execution_count": 53,
   "id": "4b6f2191",
   "metadata": {},
   "outputs": [
    {
     "data": {
      "text/plain": [
       "0.9085"
      ]
     },
     "execution_count": 53,
     "metadata": {},
     "output_type": "execute_result"
    }
   ],
   "source": [
    "# calculating the P_value\n",
    "# (the proportion of the p_diffs that are greater than the actual difference observed in the dateset)\n",
    "(p_diffs > obs_diff).mean()"
   ]
  },
  {
   "cell_type": "markdown",
   "id": "8a8fe334",
   "metadata": {},
   "source": [
    "**A/B Test Conclusion**\n",
    "\n",
    "- after running the test after everyweek of the experiment we see that the p-value is getting larger and larger than the type I error rate of 5% which rejects the null hypothesis everytime.\n",
    "- the last p-value is about 0.9 which is much larger than 5% which highly rejects the null hypothesis\n",
    "- so the test result is that the new page is not better than the old page."
   ]
  },
  {
   "cell_type": "markdown",
   "id": "efecb75b",
   "metadata": {},
   "source": [
    "### note:\n",
    "We could also use a built-in to achieve similar results.  Though using the built-in might be easier to code, the above portions are a walkthrough of the ideas that are critical to correctly thinking about statistical significance.\n",
    "\n",
    "`n_old` and `n_new` refer the the number of rows associated with the old page and new pages, respectively."
   ]
  },
  {
   "cell_type": "code",
   "execution_count": 54,
   "id": "e4405e1d",
   "metadata": {},
   "outputs": [
    {
     "data": {
      "text/plain": [
       "(17489, 17264, 145274, 145310)"
      ]
     },
     "execution_count": 54,
     "metadata": {},
     "output_type": "execute_result"
    }
   ],
   "source": [
    "import statsmodels.api as sm\n",
    "\n",
    "convert_old = df2[(df2['converted'] == 1) & (df2['group'] == 'control')]['converted'].count()\n",
    "convert_new = df2[(df2['converted'] == 1) & (df2['group'] == 'treatment')]['converted'].count()\n",
    "convert_old, convert_new, n_old ,n_new"
   ]
  },
  {
   "cell_type": "code",
   "execution_count": 55,
   "id": "1a43175c",
   "metadata": {},
   "outputs": [
    {
     "data": {
      "text/plain": [
       "(1.3109241984234394, 0.9050583127590245)"
      ]
     },
     "execution_count": 55,
     "metadata": {},
     "output_type": "execute_result"
    }
   ],
   "source": [
    "zscore, pval = sm.stats.proportions_ztest((convert_old, convert_new), (n_old, n_new), 0, 'smaller')\n",
    "zscore, pval"
   ]
  },
  {
   "cell_type": "markdown",
   "id": "da33b186",
   "metadata": {},
   "source": [
    "**Conclusion**\n",
    "\n",
    "- the p_value is > 0.05 (Type I error rate of 5%) then this doesn't reject the null hypothesis\n",
    "- the new page is not better than the old page\n",
    "- it agrees with the findings in the previous calculations as both p_values are almost the same."
   ]
  }
 ],
 "metadata": {
  "kernelspec": {
   "display_name": "Python 3 (ipykernel)",
   "language": "python",
   "name": "python3"
  },
  "language_info": {
   "codemirror_mode": {
    "name": "ipython",
    "version": 3
   },
   "file_extension": ".py",
   "mimetype": "text/x-python",
   "name": "python",
   "nbconvert_exporter": "python",
   "pygments_lexer": "ipython3",
   "version": "3.10.0"
  }
 },
 "nbformat": 4,
 "nbformat_minor": 5
}
